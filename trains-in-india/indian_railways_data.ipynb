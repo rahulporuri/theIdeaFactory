{
 "cells": [
  {
   "cell_type": "code",
   "execution_count": 1,
   "metadata": {
    "collapsed": true
   },
   "outputs": [],
   "source": [
    "import pandas"
   ]
  },
  {
   "cell_type": "code",
   "execution_count": 13,
   "metadata": {
    "collapsed": true
   },
   "outputs": [],
   "source": [
    "import numpy"
   ]
  },
  {
   "cell_type": "code",
   "execution_count": 2,
   "metadata": {
    "collapsed": true
   },
   "outputs": [],
   "source": [
    "df = pandas.read_csv('isl_wise_train_detail_03082015_v1.csv')"
   ]
  },
  {
   "cell_type": "code",
   "execution_count": 17,
   "metadata": {
    "collapsed": false
   },
   "outputs": [],
   "source": [
    "df_cat = pandas.read_csv('isl_wise_train_detail_03082015_v1.csv', dtype={'Train No.' : numpy.int32}, quotechar=\"'\")"
   ]
  },
  {
   "cell_type": "code",
   "execution_count": 19,
   "metadata": {
    "collapsed": false
   },
   "outputs": [
    {
     "data": {
      "text/html": [
       "<div>\n",
       "<table border=\"1\" class=\"dataframe\">\n",
       "  <thead>\n",
       "    <tr style=\"text-align: right;\">\n",
       "      <th></th>\n",
       "      <th>Train No.</th>\n",
       "      <th>train Name</th>\n",
       "      <th>islno</th>\n",
       "      <th>station Code</th>\n",
       "      <th>Station Name</th>\n",
       "      <th>Arrival time</th>\n",
       "      <th>Departure time</th>\n",
       "      <th>Distance</th>\n",
       "      <th>Source Station Code</th>\n",
       "      <th>source Station Name</th>\n",
       "      <th>Destination station Code</th>\n",
       "      <th>Destination Station Name</th>\n",
       "    </tr>\n",
       "  </thead>\n",
       "  <tbody>\n",
       "    <tr>\n",
       "      <th>0</th>\n",
       "      <td>851</td>\n",
       "      <td>BNC SUVIDHA SPL</td>\n",
       "      <td>1</td>\n",
       "      <td>BBS</td>\n",
       "      <td>BHUBANESWAR</td>\n",
       "      <td>00:00:00</td>\n",
       "      <td>22:50:00</td>\n",
       "      <td>0</td>\n",
       "      <td>BBS</td>\n",
       "      <td>BHUBANESWAR</td>\n",
       "      <td>BNC</td>\n",
       "      <td>BANGALORE CANT</td>\n",
       "    </tr>\n",
       "    <tr>\n",
       "      <th>1</th>\n",
       "      <td>851</td>\n",
       "      <td>BNC SUVIDHA SPL</td>\n",
       "      <td>2</td>\n",
       "      <td>BAM</td>\n",
       "      <td>BRAHMAPUR</td>\n",
       "      <td>01:10:00</td>\n",
       "      <td>01:12:00</td>\n",
       "      <td>166</td>\n",
       "      <td>BBS</td>\n",
       "      <td>BHUBANESWAR</td>\n",
       "      <td>BNC</td>\n",
       "      <td>BANGALORE CANT</td>\n",
       "    </tr>\n",
       "    <tr>\n",
       "      <th>2</th>\n",
       "      <td>851</td>\n",
       "      <td>BNC SUVIDHA SPL</td>\n",
       "      <td>3</td>\n",
       "      <td>VSKP</td>\n",
       "      <td>VISAKHAPATNAM</td>\n",
       "      <td>05:10:00</td>\n",
       "      <td>05:30:00</td>\n",
       "      <td>443</td>\n",
       "      <td>BBS</td>\n",
       "      <td>BHUBANESWAR</td>\n",
       "      <td>BNC</td>\n",
       "      <td>BANGALORE CANT</td>\n",
       "    </tr>\n",
       "    <tr>\n",
       "      <th>3</th>\n",
       "      <td>851</td>\n",
       "      <td>BNC SUVIDHA SPL</td>\n",
       "      <td>4</td>\n",
       "      <td>BZA</td>\n",
       "      <td>VIJAYAWADA JN</td>\n",
       "      <td>11:10:00</td>\n",
       "      <td>11:20:00</td>\n",
       "      <td>793</td>\n",
       "      <td>BBS</td>\n",
       "      <td>BHUBANESWAR</td>\n",
       "      <td>BNC</td>\n",
       "      <td>BANGALORE CANT</td>\n",
       "    </tr>\n",
       "    <tr>\n",
       "      <th>4</th>\n",
       "      <td>851</td>\n",
       "      <td>BNC SUVIDHA SPL</td>\n",
       "      <td>5</td>\n",
       "      <td>RU</td>\n",
       "      <td>RENIGUNTA JN</td>\n",
       "      <td>16:42:00</td>\n",
       "      <td>16:52:00</td>\n",
       "      <td>1169</td>\n",
       "      <td>BBS</td>\n",
       "      <td>BHUBANESWAR</td>\n",
       "      <td>BNC</td>\n",
       "      <td>BANGALORE CANT</td>\n",
       "    </tr>\n",
       "  </tbody>\n",
       "</table>\n",
       "</div>"
      ],
      "text/plain": [
       "   Train No.       train Name  islno station Code     Station Name  \\\n",
       "0        851  BNC SUVIDHA SPL      1         BBS   BHUBANESWAR       \n",
       "1        851  BNC SUVIDHA SPL      2         BAM   BRAHMAPUR         \n",
       "2        851  BNC SUVIDHA SPL      3         VSKP  VISAKHAPATNAM     \n",
       "3        851  BNC SUVIDHA SPL      4         BZA   VIJAYAWADA JN     \n",
       "4        851  BNC SUVIDHA SPL      5         RU    RENIGUNTA JN      \n",
       "\n",
       "  Arrival time Departure time  Distance Source Station Code  \\\n",
       "0     00:00:00       22:50:00         0                BBS    \n",
       "1     01:10:00       01:12:00       166                BBS    \n",
       "2     05:10:00       05:30:00       443                BBS    \n",
       "3     11:10:00       11:20:00       793                BBS    \n",
       "4     16:42:00       16:52:00      1169                BBS    \n",
       "\n",
       "  source Station Name Destination station Code Destination Station Name  \n",
       "0     BHUBANESWAR                         BNC           BANGALORE CANT   \n",
       "1     BHUBANESWAR                         BNC           BANGALORE CANT   \n",
       "2     BHUBANESWAR                         BNC           BANGALORE CANT   \n",
       "3     BHUBANESWAR                         BNC           BANGALORE CANT   \n",
       "4     BHUBANESWAR                         BNC           BANGALORE CANT   "
      ]
     },
     "execution_count": 19,
     "metadata": {},
     "output_type": "execute_result"
    }
   ],
   "source": [
    "df_cat.head()"
   ]
  },
  {
   "cell_type": "code",
   "execution_count": 3,
   "metadata": {
    "collapsed": false
   },
   "outputs": [
    {
     "data": {
      "text/html": [
       "<div>\n",
       "<table border=\"1\" class=\"dataframe\">\n",
       "  <thead>\n",
       "    <tr style=\"text-align: right;\">\n",
       "      <th></th>\n",
       "      <th>Train No.</th>\n",
       "      <th>train Name</th>\n",
       "      <th>islno</th>\n",
       "      <th>station Code</th>\n",
       "      <th>Station Name</th>\n",
       "      <th>Arrival time</th>\n",
       "      <th>Departure time</th>\n",
       "      <th>Distance</th>\n",
       "      <th>Source Station Code</th>\n",
       "      <th>source Station Name</th>\n",
       "      <th>Destination station Code</th>\n",
       "      <th>Destination Station Name</th>\n",
       "    </tr>\n",
       "  </thead>\n",
       "  <tbody>\n",
       "    <tr>\n",
       "      <th>0</th>\n",
       "      <td>'00851'</td>\n",
       "      <td>BNC SUVIDHA SPL</td>\n",
       "      <td>1</td>\n",
       "      <td>BBS</td>\n",
       "      <td>BHUBANESWAR</td>\n",
       "      <td>'00:00:00'</td>\n",
       "      <td>'22:50:00'</td>\n",
       "      <td>0</td>\n",
       "      <td>BBS</td>\n",
       "      <td>BHUBANESWAR</td>\n",
       "      <td>BNC</td>\n",
       "      <td>BANGALORE CANT</td>\n",
       "    </tr>\n",
       "    <tr>\n",
       "      <th>1</th>\n",
       "      <td>'00851'</td>\n",
       "      <td>BNC SUVIDHA SPL</td>\n",
       "      <td>2</td>\n",
       "      <td>BAM</td>\n",
       "      <td>BRAHMAPUR</td>\n",
       "      <td>'01:10:00'</td>\n",
       "      <td>'01:12:00'</td>\n",
       "      <td>166</td>\n",
       "      <td>BBS</td>\n",
       "      <td>BHUBANESWAR</td>\n",
       "      <td>BNC</td>\n",
       "      <td>BANGALORE CANT</td>\n",
       "    </tr>\n",
       "    <tr>\n",
       "      <th>2</th>\n",
       "      <td>'00851'</td>\n",
       "      <td>BNC SUVIDHA SPL</td>\n",
       "      <td>3</td>\n",
       "      <td>VSKP</td>\n",
       "      <td>VISAKHAPATNAM</td>\n",
       "      <td>'05:10:00'</td>\n",
       "      <td>'05:30:00'</td>\n",
       "      <td>443</td>\n",
       "      <td>BBS</td>\n",
       "      <td>BHUBANESWAR</td>\n",
       "      <td>BNC</td>\n",
       "      <td>BANGALORE CANT</td>\n",
       "    </tr>\n",
       "    <tr>\n",
       "      <th>3</th>\n",
       "      <td>'00851'</td>\n",
       "      <td>BNC SUVIDHA SPL</td>\n",
       "      <td>4</td>\n",
       "      <td>BZA</td>\n",
       "      <td>VIJAYAWADA JN</td>\n",
       "      <td>'11:10:00'</td>\n",
       "      <td>'11:20:00'</td>\n",
       "      <td>793</td>\n",
       "      <td>BBS</td>\n",
       "      <td>BHUBANESWAR</td>\n",
       "      <td>BNC</td>\n",
       "      <td>BANGALORE CANT</td>\n",
       "    </tr>\n",
       "    <tr>\n",
       "      <th>4</th>\n",
       "      <td>'00851'</td>\n",
       "      <td>BNC SUVIDHA SPL</td>\n",
       "      <td>5</td>\n",
       "      <td>RU</td>\n",
       "      <td>RENIGUNTA JN</td>\n",
       "      <td>'16:42:00'</td>\n",
       "      <td>'16:52:00'</td>\n",
       "      <td>1169</td>\n",
       "      <td>BBS</td>\n",
       "      <td>BHUBANESWAR</td>\n",
       "      <td>BNC</td>\n",
       "      <td>BANGALORE CANT</td>\n",
       "    </tr>\n",
       "  </tbody>\n",
       "</table>\n",
       "</div>"
      ],
      "text/plain": [
       "  Train No.       train Name  islno station Code     Station Name  \\\n",
       "0   '00851'  BNC SUVIDHA SPL      1         BBS   BHUBANESWAR       \n",
       "1   '00851'  BNC SUVIDHA SPL      2         BAM   BRAHMAPUR         \n",
       "2   '00851'  BNC SUVIDHA SPL      3         VSKP  VISAKHAPATNAM     \n",
       "3   '00851'  BNC SUVIDHA SPL      4         BZA   VIJAYAWADA JN     \n",
       "4   '00851'  BNC SUVIDHA SPL      5         RU    RENIGUNTA JN      \n",
       "\n",
       "  Arrival time Departure time  Distance Source Station Code  \\\n",
       "0   '00:00:00'     '22:50:00'         0                BBS    \n",
       "1   '01:10:00'     '01:12:00'       166                BBS    \n",
       "2   '05:10:00'     '05:30:00'       443                BBS    \n",
       "3   '11:10:00'     '11:20:00'       793                BBS    \n",
       "4   '16:42:00'     '16:52:00'      1169                BBS    \n",
       "\n",
       "  source Station Name Destination station Code Destination Station Name  \n",
       "0     BHUBANESWAR                         BNC           BANGALORE CANT   \n",
       "1     BHUBANESWAR                         BNC           BANGALORE CANT   \n",
       "2     BHUBANESWAR                         BNC           BANGALORE CANT   \n",
       "3     BHUBANESWAR                         BNC           BANGALORE CANT   \n",
       "4     BHUBANESWAR                         BNC           BANGALORE CANT   "
      ]
     },
     "execution_count": 3,
     "metadata": {},
     "output_type": "execute_result"
    }
   ],
   "source": [
    "df.head()"
   ]
  },
  {
   "cell_type": "code",
   "execution_count": 4,
   "metadata": {
    "collapsed": true
   },
   "outputs": [],
   "source": [
    "trains = list(set(df['Train No.']))"
   ]
  },
  {
   "cell_type": "code",
   "execution_count": 5,
   "metadata": {
    "collapsed": false
   },
   "outputs": [
    {
     "data": {
      "text/plain": [
       "2810"
      ]
     },
     "execution_count": 5,
     "metadata": {},
     "output_type": "execute_result"
    }
   ],
   "source": [
    "len(trains)"
   ]
  },
  {
   "cell_type": "code",
   "execution_count": 23,
   "metadata": {
    "collapsed": false
   },
   "outputs": [
    {
     "data": {
      "text/plain": [
       "61033"
      ]
     },
     "execution_count": 23,
     "metadata": {},
     "output_type": "execute_result"
    }
   ],
   "source": [
    "len(df_catt)"
   ]
  },
  {
   "cell_type": "code",
   "execution_count": 24,
   "metadata": {
    "collapsed": false
   },
   "outputs": [
    {
     "data": {
      "text/html": [
       "<div>\n",
       "<table border=\"1\" class=\"dataframe\">\n",
       "  <thead>\n",
       "    <tr style=\"text-align: right;\">\n",
       "      <th></th>\n",
       "      <th>Train No.</th>\n",
       "      <th>train Name</th>\n",
       "      <th>islno</th>\n",
       "      <th>station Code</th>\n",
       "      <th>Station Name</th>\n",
       "      <th>Arrival time</th>\n",
       "      <th>Departure time</th>\n",
       "      <th>Distance</th>\n",
       "      <th>Source Station Code</th>\n",
       "      <th>source Station Name</th>\n",
       "      <th>Destination station Code</th>\n",
       "      <th>Destination Station Name</th>\n",
       "    </tr>\n",
       "  </thead>\n",
       "  <tbody>\n",
       "    <tr>\n",
       "      <th>61028</th>\n",
       "      <td>29060</td>\n",
       "      <td>SURAT INTERCITY</td>\n",
       "      <td>14</td>\n",
       "      <td>BH</td>\n",
       "      <td>BHARUCH JN</td>\n",
       "      <td>13:28:00</td>\n",
       "      <td>13:30:00</td>\n",
       "      <td>493</td>\n",
       "      <td>HAPA</td>\n",
       "      <td>HAPA</td>\n",
       "      <td>ST</td>\n",
       "      <td>SURAT</td>\n",
       "    </tr>\n",
       "    <tr>\n",
       "      <th>61029</th>\n",
       "      <td>29060</td>\n",
       "      <td>SURAT INTERCITY</td>\n",
       "      <td>15</td>\n",
       "      <td>AKV</td>\n",
       "      <td>ANKLESHWAR JN</td>\n",
       "      <td>13:39:00</td>\n",
       "      <td>13:41:00</td>\n",
       "      <td>502</td>\n",
       "      <td>HAPA</td>\n",
       "      <td>HAPA</td>\n",
       "      <td>ST</td>\n",
       "      <td>SURAT</td>\n",
       "    </tr>\n",
       "    <tr>\n",
       "      <th>61030</th>\n",
       "      <td>29060</td>\n",
       "      <td>SURAT INTERCITY</td>\n",
       "      <td>16</td>\n",
       "      <td>KSB</td>\n",
       "      <td>KOSAMBA JN</td>\n",
       "      <td>13:54:00</td>\n",
       "      <td>13:56:00</td>\n",
       "      <td>521</td>\n",
       "      <td>HAPA</td>\n",
       "      <td>HAPA</td>\n",
       "      <td>ST</td>\n",
       "      <td>SURAT</td>\n",
       "    </tr>\n",
       "    <tr>\n",
       "      <th>61031</th>\n",
       "      <td>29060</td>\n",
       "      <td>SURAT INTERCITY</td>\n",
       "      <td>17</td>\n",
       "      <td>KIM</td>\n",
       "      <td>KIM</td>\n",
       "      <td>14:05:00</td>\n",
       "      <td>14:07:00</td>\n",
       "      <td>529</td>\n",
       "      <td>HAPA</td>\n",
       "      <td>HAPA</td>\n",
       "      <td>ST</td>\n",
       "      <td>SURAT</td>\n",
       "    </tr>\n",
       "    <tr>\n",
       "      <th>61032</th>\n",
       "      <td>29060</td>\n",
       "      <td>SURAT INTERCITY</td>\n",
       "      <td>18</td>\n",
       "      <td>ST</td>\n",
       "      <td>SURAT</td>\n",
       "      <td>14:45:00</td>\n",
       "      <td>00:00:00</td>\n",
       "      <td>552</td>\n",
       "      <td>HAPA</td>\n",
       "      <td>HAPA</td>\n",
       "      <td>ST</td>\n",
       "      <td>SURAT</td>\n",
       "    </tr>\n",
       "  </tbody>\n",
       "</table>\n",
       "</div>"
      ],
      "text/plain": [
       "       Train No.       train Name  islno station Code     Station Name  \\\n",
       "61028      29060  SURAT INTERCITY     14         BH    BHARUCH JN        \n",
       "61029      29060  SURAT INTERCITY     15         AKV   ANKLESHWAR JN     \n",
       "61030      29060  SURAT INTERCITY     16         KSB   KOSAMBA JN        \n",
       "61031      29060  SURAT INTERCITY     17         KIM   KIM               \n",
       "61032      29060  SURAT INTERCITY     18         ST    SURAT             \n",
       "\n",
       "      Arrival time Departure time  Distance Source Station Code  \\\n",
       "61028     13:28:00       13:30:00       493                HAPA   \n",
       "61029     13:39:00       13:41:00       502                HAPA   \n",
       "61030     13:54:00       13:56:00       521                HAPA   \n",
       "61031     14:05:00       14:07:00       529                HAPA   \n",
       "61032     14:45:00       00:00:00       552                HAPA   \n",
       "\n",
       "      source Station Name Destination station Code Destination Station Name  \n",
       "61028     HAPA                                ST            SURAT            \n",
       "61029     HAPA                                ST            SURAT            \n",
       "61030     HAPA                                ST            SURAT            \n",
       "61031     HAPA                                ST            SURAT            \n",
       "61032     HAPA                                ST            SURAT            "
      ]
     },
     "execution_count": 24,
     "metadata": {},
     "output_type": "execute_result"
    }
   ],
   "source": [
    "df_catt.tail()"
   ]
  },
  {
   "cell_type": "code",
   "execution_count": 34,
   "metadata": {
    "collapsed": false
   },
   "outputs": [],
   "source": [
    "df_catt = df_cat[(df_cat['Train No.'] < 23000) & (df_cat['Train No.'] >= 10000)]"
   ]
  },
  {
   "cell_type": "code",
   "execution_count": 35,
   "metadata": {
    "collapsed": true
   },
   "outputs": [],
   "source": [
    "no_of_trains_cat = list(set(df_catt['Train No.']))"
   ]
  },
  {
   "cell_type": "code",
   "execution_count": 68,
   "metadata": {
    "collapsed": false
   },
   "outputs": [
    {
     "data": {
      "text/plain": [
       "[10001, 10002, 10103, 10104, 10111, 10112, 10215, 10216, 11003, 11004]"
      ]
     },
     "execution_count": 68,
     "metadata": {},
     "output_type": "execute_result"
    }
   ],
   "source": [
    "sorted(no_of_trains_cat)[:10]"
   ]
  },
  {
   "cell_type": "code",
   "execution_count": 36,
   "metadata": {
    "collapsed": false
   },
   "outputs": [
    {
     "data": {
      "text/plain": [
       "2438"
      ]
     },
     "execution_count": 36,
     "metadata": {},
     "output_type": "execute_result"
    }
   ],
   "source": [
    "len(no_of_trains_cat)"
   ]
  },
  {
   "cell_type": "code",
   "execution_count": 37,
   "metadata": {
    "collapsed": false
   },
   "outputs": [
    {
     "data": {
      "text/plain": [
       "58206"
      ]
     },
     "execution_count": 37,
     "metadata": {},
     "output_type": "execute_result"
    }
   ],
   "source": [
    "len(df_catt)"
   ]
  },
  {
   "cell_type": "code",
   "execution_count": 50,
   "metadata": {
    "collapsed": false
   },
   "outputs": [
    {
     "name": "stdout",
     "output_type": "stream",
     "text": [
      "13:55:00\n"
     ]
    }
   ],
   "source": [
    "print df_catt[df_catt['Train No.'] == no_of_trains_cat[0]].iloc[-1]['Arrival time']"
   ]
  },
  {
   "cell_type": "code",
   "execution_count": 62,
   "metadata": {
    "collapsed": true
   },
   "outputs": [],
   "source": [
    "arrival_times_list = []\n",
    "for train in no_of_trains_cat:\n",
    "    truncated_df = df_catt[df_catt['Train No.'] == train]\n",
    "    arrival_times_list.append(int(truncated_df.iloc[-1]['Arrival time'].split(':')[0]))"
   ]
  },
  {
   "cell_type": "code",
   "execution_count": 63,
   "metadata": {
    "collapsed": false
   },
   "outputs": [
    {
     "name": "stdout",
     "output_type": "stream",
     "text": [
      "[13, 17, 4, 3, 3, 13, 3, 16, 23, 22] [7, 6, 4, 20, 21, 14, 9, 23, 12, 4]\n"
     ]
    }
   ],
   "source": [
    "print arrival_times_list[:10], arrival_times_list[-10:]"
   ]
  },
  {
   "cell_type": "code",
   "execution_count": 67,
   "metadata": {
    "collapsed": false
   },
   "outputs": [
    {
     "data": {
      "text/plain": [
       "(array([  12.,   15.,   10.,   69.,  130.,  157.,  175.,  169.,  141.,\n",
       "         131.,  134.,  142.,  131.,  144.,  105.,   68.,   70.,   93.,\n",
       "          77.,   68.,  104.,  103.,  190.]),\n",
       " array([  0.,   1.,   2.,   3.,   4.,   5.,   6.,   7.,   8.,   9.,  10.,\n",
       "         11.,  12.,  13.,  14.,  15.,  16.,  17.,  18.,  19.,  20.,  21.,\n",
       "         22.,  23.]),\n",
       " <a list of 23 Patch objects>)"
      ]
     },
     "execution_count": 67,
     "metadata": {},
     "output_type": "execute_result"
    },
    {
     "data": {
      "image/png": "[encoded data removed]",
      "text/plain": [
       "<matplotlib.figure.Figure at 0x117482610>"
      ]
     },
     "metadata": {},
     "output_type": "display_data"
    }
   ],
   "source": [
    "plt.hist(arrival_times_list, bins=23)"
   ]
  },
  {
   "cell_type": "code",
   "execution_count": 55,
   "metadata": {
    "collapsed": false
   },
   "outputs": [
    {
     "data": {
      "text/plain": [
       "2438"
      ]
     },
     "execution_count": 55,
     "metadata": {},
     "output_type": "execute_result"
    }
   ],
   "source": [
    "len(arrival_times_list)"
   ]
  },
  {
   "cell_type": "code",
   "execution_count": 17,
   "metadata": {
    "collapsed": false
   },
   "outputs": [],
   "source": [
    "travel_distance_list = []\n",
    "for train in trains:\n",
    "    truncated_df = df[df['Train No.']==train]\n",
    "    travel_distance_list.append(truncated_df.iloc[-1]['Distance'])"
   ]
  },
  {
   "cell_type": "code",
   "execution_count": null,
   "metadata": {
    "collapsed": true
   },
   "outputs": [],
   "source": []
  },
  {
   "cell_type": "code",
   "execution_count": 52,
   "metadata": {
    "collapsed": true
   },
   "outputs": [],
   "source": [
    "import matplotlib.pyplot as plt"
   ]
  },
  {
   "cell_type": "code",
   "execution_count": 53,
   "metadata": {
    "collapsed": true
   },
   "outputs": [],
   "source": [
    "%matplotlib inline"
   ]
  },
  {
   "cell_type": "code",
   "execution_count": 20,
   "metadata": {
    "collapsed": false
   },
   "outputs": [
    {
     "data": {
      "text/plain": [
       "(array([ 638.,  839.,  363.,  385.,  290.,  148.,   85.,   41.,   19.,    2.]),\n",
       " array([   14. ,   439.9,   865.8,  1291.7,  1717.6,  2143.5,  2569.4,\n",
       "         2995.3,  3421.2,  3847.1,  4273. ]),\n",
       " <a list of 10 Patch objects>)"
      ]
     },
     "execution_count": 20,
     "metadata": {},
     "output_type": "execute_result"
    },
    {
     "data": {
      "image/png": "[encoded data removed]",
      "text/plain": [
       "<matplotlib.figure.Figure at 0x111129d50>"
      ]
     },
     "metadata": {},
     "output_type": "display_data"
    }
   ],
   "source": [
    "plt.hist(travel_distance_list)"
   ]
  },
  {
   "cell_type": "code",
   "execution_count": null,
   "metadata": {
    "collapsed": true
   },
   "outputs": [],
   "source": []
  },
  {
   "cell_type": "code",
   "execution_count": 21,
   "metadata": {
    "collapsed": true
   },
   "outputs": [],
   "source": [
    "source_stations_list = list(set(df['Source Station Code']))"
   ]
  },
  {
   "cell_type": "code",
   "execution_count": 22,
   "metadata": {
    "collapsed": false
   },
   "outputs": [
    {
     "data": {
      "text/plain": [
       "357"
      ]
     },
     "execution_count": 22,
     "metadata": {},
     "output_type": "execute_result"
    }
   ],
   "source": [
    "len(source_stations_list)"
   ]
  },
  {
   "cell_type": "code",
   "execution_count": null,
   "metadata": {
    "collapsed": true
   },
   "outputs": [],
   "source": []
  },
  {
   "cell_type": "code",
   "execution_count": 23,
   "metadata": {
    "collapsed": true
   },
   "outputs": [],
   "source": [
    "stations_list = list(set(df['station Code']))"
   ]
  },
  {
   "cell_type": "code",
   "execution_count": 24,
   "metadata": {
    "collapsed": false
   },
   "outputs": [
    {
     "data": {
      "text/plain": [
       "4344"
      ]
     },
     "execution_count": 24,
     "metadata": {},
     "output_type": "execute_result"
    }
   ],
   "source": [
    "len(stations_list)"
   ]
  },
  {
   "cell_type": "code",
   "execution_count": null,
   "metadata": {
    "collapsed": true
   },
   "outputs": [],
   "source": []
  },
  {
   "cell_type": "markdown",
   "metadata": {},
   "source": [
    "need to figure out how to understand and visualize trains that have travel time >24 hrs\n",
    "---"
   ]
  },
  {
   "cell_type": "markdown",
   "metadata": {},
   "source": [
    "this is a little weird. something must be going wrong with my analysis\n",
    "---"
   ]
  },
  {
   "cell_type": "code",
   "execution_count": 136,
   "metadata": {
    "collapsed": false
   },
   "outputs": [],
   "source": [
    "travel_durations_list = []\n",
    "for train in trains:\n",
    "    truncated_df = df[df['Train No.']==train]\n",
    "    \n",
    "    start = int(truncated_df.iloc[0]['Arrival time'].strip(\"''\").split(':')[0])\n",
    "    end = int(truncated_df.iloc[-1]['Arrival time'].strip(\"''\").split(':')[0])\n",
    "    \n",
    "    times = [int(truncated_df.iloc[i]['Arrival time'].strip(\"''\").split(':')[0]) for i in range(len(truncated_df))]\n",
    "    time_diffs = [times[i+1]-times[i] for i in range(len(times)-1)]\n",
    "    \n",
    "    for time_diff in time_diffs:\n",
    "        if abs(time_diff) != time_diff:\n",
    "            end += 24\n",
    "    \n",
    "    travel_durations_list.append(end-start)"
   ]
  },
  {
   "cell_type": "code",
   "execution_count": 140,
   "metadata": {
    "collapsed": false
   },
   "outputs": [],
   "source": [
    "trunc_travel_durations_list = sorted(travel_durations_list, reverse=True)[20:]"
   ]
  },
  {
   "cell_type": "code",
   "execution_count": 135,
   "metadata": {
    "collapsed": false
   },
   "outputs": [
    {
     "data": {
      "text/plain": [
       "(array([  371.,   628.,  1106.,   390.,   185.,    62.,    12.,     7.,\n",
       "            3.,     9.,     2.,     3.,     0.,     4.,     2.,     4.,\n",
       "            0.,     3.,     9.,    10.]),\n",
       " array([   4. ,   16.8,   29.6,   42.4,   55.2,   68. ,   80.8,   93.6,\n",
       "         106.4,  119.2,  132. ,  144.8,  157.6,  170.4,  183.2,  196. ,\n",
       "         208.8,  221.6,  234.4,  247.2,  260. ]),\n",
       " <a list of 20 Patch objects>)"
      ]
     },
     "execution_count": 135,
     "metadata": {},
     "output_type": "execute_result"
    },
    {
     "data": {
      "image/png": "[encoded data removed]",
      "text/plain": [
       "<matplotlib.figure.Figure at 0x10fb478d0>"
      ]
     },
     "metadata": {},
     "output_type": "display_data"
    }
   ],
   "source": [
    "plt.hist(travel_durations_list, bins=20)"
   ]
  },
  {
   "cell_type": "code",
   "execution_count": 141,
   "metadata": {
    "collapsed": false
   },
   "outputs": [
    {
     "data": {
      "text/plain": [
       "(array([  729.,  1571.,   414.,    40.,    10.,    10.,     4.,     4.,\n",
       "            5.,     3.]),\n",
       " array([   4. ,   26.4,   48.8,   71.2,   93.6,  116. ,  138.4,  160.8,\n",
       "         183.2,  205.6,  228. ]),\n",
       " <a list of 10 Patch objects>)"
      ]
     },
     "execution_count": 141,
     "metadata": {},
     "output_type": "execute_result"
    },
    {
     "data": {
      "image/png": "[encoded data removed]",
      "text/plain": [
       "<matplotlib.figure.Figure at 0x11b66cb50>"
      ]
     },
     "metadata": {},
     "output_type": "display_data"
    }
   ],
   "source": [
    "plt.hist(trunc_travel_durations_list)"
   ]
  },
  {
   "cell_type": "code",
   "execution_count": null,
   "metadata": {
    "collapsed": true
   },
   "outputs": [],
   "source": []
  },
  {
   "cell_type": "code",
   "execution_count": 70,
   "metadata": {
    "collapsed": false
   },
   "outputs": [],
   "source": [
    "grouped_df = df.groupby(by=[u'Train No.'], as_index=False)"
   ]
  },
  {
   "cell_type": "markdown",
   "metadata": {},
   "source": [
    "this is interesting. shows how many stations there are on a route\n",
    "---"
   ]
  },
  {
   "cell_type": "code",
   "execution_count": 71,
   "metadata": {
    "collapsed": false
   },
   "outputs": [],
   "source": [
    "df_counts = grouped_df.count()"
   ]
  },
  {
   "cell_type": "code",
   "execution_count": 75,
   "metadata": {
    "collapsed": false
   },
   "outputs": [],
   "source": [
    "stations_en_route = []\n",
    "for train in trains:\n",
    "    stations_en_route.append(df_counts[df_counts['Train No.']==train].iloc[0]['train Name'])"
   ]
  },
  {
   "cell_type": "code",
   "execution_count": 76,
   "metadata": {
    "collapsed": false
   },
   "outputs": [
    {
     "data": {
      "text/plain": [
       "(array([  836.,  1065.,   512.,   219.,    83.,    40.,    29.,    16.,\n",
       "            6.,     4.]),\n",
       " array([   2. ,   14.6,   27.2,   39.8,   52.4,   65. ,   77.6,   90.2,\n",
       "         102.8,  115.4,  128. ]),\n",
       " <a list of 10 Patch objects>)"
      ]
     },
     "execution_count": 76,
     "metadata": {},
     "output_type": "execute_result"
    },
    {
     "data": {
      "image/png": "[encoded data removed]",
      "text/plain": [
       "<matplotlib.figure.Figure at 0x118a82d50>"
      ]
     },
     "metadata": {},
     "output_type": "display_data"
    }
   ],
   "source": [
    "plt.hist(stations_en_route)"
   ]
  },
  {
   "cell_type": "code",
   "execution_count": null,
   "metadata": {
    "collapsed": true
   },
   "outputs": [],
   "source": []
  },
  {
   "cell_type": "code",
   "execution_count": 77,
   "metadata": {
    "collapsed": true
   },
   "outputs": [],
   "source": [
    "popular_source_df = grouped_df['Source Station Code']"
   ]
  },
  {
   "cell_type": "code",
   "execution_count": 78,
   "metadata": {
    "collapsed": false
   },
   "outputs": [
    {
     "data": {
      "text/plain": [
       "<pandas.core.groupby.DataFrameGroupBy object at 0x11376be90>"
      ]
     },
     "execution_count": 78,
     "metadata": {},
     "output_type": "execute_result"
    }
   ],
   "source": [
    "popular_source_df"
   ]
  },
  {
   "cell_type": "code",
   "execution_count": null,
   "metadata": {
    "collapsed": true
   },
   "outputs": [],
   "source": []
  },
  {
   "cell_type": "markdown",
   "metadata": {},
   "source": [
    "number of trains that have the same source station\n",
    "---"
   ]
  },
  {
   "cell_type": "code",
   "execution_count": 83,
   "metadata": {
    "collapsed": false
   },
   "outputs": [],
   "source": [
    "source_stations_list = []\n",
    "for name, group in grouped_df:\n",
    "    source_stations_list.append(group.iloc[0]['Source Station Code'])"
   ]
  },
  {
   "cell_type": "code",
   "execution_count": 84,
   "metadata": {
    "collapsed": true
   },
   "outputs": [],
   "source": [
    "from collections import Counter"
   ]
  },
  {
   "cell_type": "code",
   "execution_count": 86,
   "metadata": {
    "collapsed": false
   },
   "outputs": [],
   "source": [
    "source_stations_counts = Counter(source_stations_list).items()"
   ]
  },
  {
   "cell_type": "code",
   "execution_count": 92,
   "metadata": {
    "collapsed": false
   },
   "outputs": [
    {
     "data": {
      "text/plain": [
       "[('SSPN', 2), ('CDG ', 18), ('RMR ', 6), ('MJ  ', 1), ('UBL ', 16)]"
      ]
     },
     "execution_count": 92,
     "metadata": {},
     "output_type": "execute_result"
    }
   ],
   "source": [
    "source_stations_counts[:5]"
   ]
  },
  {
   "cell_type": "code",
   "execution_count": 101,
   "metadata": {
    "collapsed": false
   },
   "outputs": [],
   "source": [
    "sorted_source_stations_count = sorted(source_stations_counts, key=lambda x : x[1], reverse=True)"
   ]
  },
  {
   "cell_type": "code",
   "execution_count": 105,
   "metadata": {
    "collapsed": false
   },
   "outputs": [
    {
     "data": {
      "text/plain": [
       "[('HWH ', 102),\n",
       " ('NDLS', 85),\n",
       " ('MAS ', 69),\n",
       " ('LTT ', 63),\n",
       " ('CSTM', 50),\n",
       " ('YPR ', 49),\n",
       " ('NZM ', 48),\n",
       " ('SC  ', 46),\n",
       " ('PUNE', 46),\n",
       " ('ADI ', 44)]"
      ]
     },
     "execution_count": 105,
     "metadata": {},
     "output_type": "execute_result"
    }
   ],
   "source": [
    "sorted_source_stations_count[:10]"
   ]
  },
  {
   "cell_type": "code",
   "execution_count": null,
   "metadata": {
    "collapsed": true
   },
   "outputs": [],
   "source": []
  },
  {
   "cell_type": "code",
   "execution_count": 107,
   "metadata": {
    "collapsed": false
   },
   "outputs": [
    {
     "data": {
      "text/plain": [
       "True"
      ]
     },
     "execution_count": 107,
     "metadata": {},
     "output_type": "execute_result"
    }
   ],
   "source": [
    "'042'.startswith('0')"
   ]
  },
  {
   "cell_type": "code",
   "execution_count": null,
   "metadata": {
    "collapsed": true
   },
   "outputs": [],
   "source": []
  }
 ],
 "metadata": {
  "kernelspec": {
   "display_name": "Python 2",
   "language": "python",
   "name": "python2"
  },
  "language_info": {
   "codemirror_mode": {
    "name": "ipython",
    "version": 2
   },
   "file_extension": ".py",
   "mimetype": "text/x-python",
   "name": "python",
   "nbconvert_exporter": "python",
   "pygments_lexer": "ipython2",
   "version": "2.7.11"
  }
 },
 "nbformat": 4,
 "nbformat_minor": 0
}
