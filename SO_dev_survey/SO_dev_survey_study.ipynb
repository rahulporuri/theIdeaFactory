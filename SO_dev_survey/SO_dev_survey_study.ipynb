{
 "cells": [
  {
   "cell_type": "code",
   "execution_count": 1,
   "metadata": {
    "collapsed": true,
    "deletable": true,
    "editable": true
   },
   "outputs": [],
   "source": [
    "import pandas as pd\n",
    "import matplotlib.pyplot as plt\n",
    "%matplotlib inline"
   ]
  },
  {
   "cell_type": "code",
   "execution_count": 2,
   "metadata": {
    "collapsed": true,
    "deletable": true,
    "editable": true
   },
   "outputs": [],
   "source": [
    "df = pd.read_csv(\"/Users/rahulporuri/Downloads/developer_survey_2017/survey_results_public.csv\")\n",
    "df[\"Country\"] = df[\"Country\"].astype(\"category\")"
   ]
  },
  {
   "cell_type": "code",
   "execution_count": 3,
   "metadata": {
    "collapsed": true,
    "deletable": true,
    "editable": true
   },
   "outputs": [],
   "source": [
    "indian_devs = df[df[\"Country\"] == \"India\"]"
   ]
  },
  {
   "cell_type": "code",
   "execution_count": 4,
   "metadata": {
    "collapsed": false,
    "deletable": true,
    "editable": true
   },
   "outputs": [
    {
     "data": {
      "image/png": "[encoded data removed]",
      "text/plain": [
       "<matplotlib.figure.Figure at 0x119247ac8>"
      ]
     },
     "metadata": {},
     "output_type": "display_data"
    }
   ],
   "source": [
    "indian_devs.Salary.hist(bins=100)\n",
    "plt.show()"
   ]
  },
  {
   "cell_type": "code",
   "execution_count": 5,
   "metadata": {
    "collapsed": false,
    "deletable": true,
    "editable": true
   },
   "outputs": [
    {
     "data": {
      "image/png": "[encoded data removed]",
      "text/plain": [
       "<matplotlib.figure.Figure at 0x11cfcbc88>"
      ]
     },
     "metadata": {},
     "output_type": "display_data"
    }
   ],
   "source": [
    "indian_devs.loc[:, [\"Salary\", \"ExpectedSalary\"]].hist(bins=100)\n",
    "plt.show()"
   ]
  },
  {
   "cell_type": "code",
   "execution_count": 6,
   "metadata": {
    "collapsed": false,
    "deletable": true,
    "editable": true
   },
   "outputs": [
    {
     "name": "stderr",
     "output_type": "stream",
     "text": [
      "/Users/rahulporuri/Library/Enthought/Canopy/edm/envs/py36/lib/python3.6/site-packages/ipykernel/__main__.py:1: SettingWithCopyWarning: \n",
      "A value is trying to be set on a copy of a slice from a DataFrame.\n",
      "Try using .loc[row_indexer,col_indexer] = value instead\n",
      "\n",
      "See the caveats in the documentation: http://pandas.pydata.org/pandas-docs/stable/indexing.html#indexing-view-versus-copy\n",
      "  if __name__ == '__main__':\n"
     ]
    },
    {
     "data": {
      "image/png": "[encoded data removed]",
      "text/plain": [
       "<matplotlib.figure.Figure at 0x112644470>"
      ]
     },
     "metadata": {},
     "output_type": "display_data"
    }
   ],
   "source": [
    "indian_devs[\"Salary\"] = indian_devs[\"Salary\"].astype(float)\n",
    "indian_devs[indian_devs[\"Salary\"] <  50000].Salary.hist(bins=100)\n",
    "plt.show()"
   ]
  },
  {
   "cell_type": "code",
   "execution_count": 7,
   "metadata": {
    "collapsed": false,
    "deletable": true,
    "editable": true
   },
   "outputs": [
    {
     "name": "stdout",
     "output_type": "stream",
     "text": [
      "(5197, 154)\n"
     ]
    }
   ],
   "source": [
    "print(indian_devs.shape)"
   ]
  },
  {
   "cell_type": "code",
   "execution_count": 8,
   "metadata": {
    "collapsed": false,
    "deletable": true,
    "editable": true
   },
   "outputs": [
    {
     "name": "stdout",
     "output_type": "stream",
     "text": [
      "Never                                                      1411\n",
      "A few days each month                                      1408\n",
      "All or almost all the time (I'm full-time remote)           409\n",
      "Less than half the time, but at least one day each week     387\n",
      "More than half, but not all, the time                       288\n",
      "About half the time                                         199\n",
      "It's complicated                                             97\n",
      "Name: HomeRemote, dtype: int64\n"
     ]
    },
    {
     "name": "stderr",
     "output_type": "stream",
     "text": [
      "/Users/rahulporuri/Library/Enthought/Canopy/edm/envs/py36/lib/python3.6/site-packages/ipykernel/__main__.py:1: SettingWithCopyWarning: \n",
      "A value is trying to be set on a copy of a slice from a DataFrame.\n",
      "Try using .loc[row_indexer,col_indexer] = value instead\n",
      "\n",
      "See the caveats in the documentation: http://pandas.pydata.org/pandas-docs/stable/indexing.html#indexing-view-versus-copy\n",
      "  if __name__ == '__main__':\n"
     ]
    }
   ],
   "source": [
    "indian_devs[\"HomeRemote\"] = indian_devs[\"HomeRemote\"].astype(\"category\")\n",
    "print(indian_devs[\"HomeRemote\"].value_counts())"
   ]
  },
  {
   "cell_type": "code",
   "execution_count": 9,
   "metadata": {
    "collapsed": false,
    "deletable": true,
    "editable": true
   },
   "outputs": [
    {
     "name": "stdout",
     "output_type": "stream",
     "text": [
      "Professional developer                                  3438\n",
      "Student                                                 1162\n",
      "Professional non-developer who sometimes writes code     439\n",
      "Used to be a professional developer                      104\n",
      "None of these                                             54\n",
      "Name: Professional, dtype: int64\n"
     ]
    },
    {
     "name": "stderr",
     "output_type": "stream",
     "text": [
      "/Users/rahulporuri/Library/Enthought/Canopy/edm/envs/py36/lib/python3.6/site-packages/ipykernel/__main__.py:1: SettingWithCopyWarning: \n",
      "A value is trying to be set on a copy of a slice from a DataFrame.\n",
      "Try using .loc[row_indexer,col_indexer] = value instead\n",
      "\n",
      "See the caveats in the documentation: http://pandas.pydata.org/pandas-docs/stable/indexing.html#indexing-view-versus-copy\n",
      "  if __name__ == '__main__':\n"
     ]
    }
   ],
   "source": [
    "indian_devs[\"Professional\"] = indian_devs[\"Professional\"].astype(\"category\")\n",
    "print(indian_devs[\"Professional\"].value_counts())"
   ]
  },
  {
   "cell_type": "code",
   "execution_count": 10,
   "metadata": {
    "collapsed": false,
    "deletable": true,
    "editable": true
   },
   "outputs": [
    {
     "name": "stdout",
     "output_type": "stream",
     "text": [
      "With a soft \"g,\" like \"jiff\"              2804\n",
      "Enunciating each letter: \"gee eye eff\"    1420\n",
      "With a hard \"g,\" like \"gift\"               835\n",
      "Some other way                              75\n",
      "Name: PronounceGIF, dtype: int64\n"
     ]
    },
    {
     "name": "stderr",
     "output_type": "stream",
     "text": [
      "/Users/rahulporuri/Library/Enthought/Canopy/edm/envs/py36/lib/python3.6/site-packages/ipykernel/__main__.py:1: SettingWithCopyWarning: \n",
      "A value is trying to be set on a copy of a slice from a DataFrame.\n",
      "Try using .loc[row_indexer,col_indexer] = value instead\n",
      "\n",
      "See the caveats in the documentation: http://pandas.pydata.org/pandas-docs/stable/indexing.html#indexing-view-versus-copy\n",
      "  if __name__ == '__main__':\n"
     ]
    }
   ],
   "source": [
    "indian_devs[\"PronounceGIF\"] = indian_devs[\"PronounceGIF\"].astype(\"category\")\n",
    "print(indian_devs[\"PronounceGIF\"].value_counts())"
   ]
  },
  {
   "cell_type": "code",
   "execution_count": 11,
   "metadata": {
    "collapsed": false,
    "deletable": true,
    "editable": true
   },
   "outputs": [
    {
     "name": "stdout",
     "output_type": "stream",
     "text": [
      "Web developer                                                                                                                                                                                                                          1210\n",
      "Mobile developer                                                                                                                                                                                                                        407\n",
      "Web developer; Mobile developer                                                                                                                                                                                                         203\n",
      "Web developer; Desktop applications developer                                                                                                                                                                                           158\n",
      "Other                                                                                                                                                                                                                                    88\n",
      "Desktop applications developer                                                                                                                                                                                                           75\n",
      "Web developer; Developer with a statistics or mathematics background                                                                                                                                                                     61\n",
      "Web developer; Mobile developer; Desktop applications developer                                                                                                                                                                          60\n",
      "Web developer; Database administrator                                                                                                                                                                                                    59\n",
      "Developer with a statistics or mathematics background                                                                                                                                                                                    52\n",
      "Embedded applications/devices developer                                                                                                                                                                                                  48\n",
      "Data scientist                                                                                                                                                                                                                           37\n",
      "Web developer; Desktop applications developer; Database administrator                                                                                                                                                                    32\n",
      "Web developer; DevOps specialist                                                                                                                                                                                                         29\n",
      "Web developer; Mobile developer; Database administrator                                                                                                                                                                                  23\n",
      "Quality assurance engineer                                                                                                                                                                                                               23\n",
      "Mobile developer; Desktop applications developer                                                                                                                                                                                         23\n",
      "Web developer; Graphic designer                                                                                                                                                                                                          19\n",
      "Web developer; Data scientist                                                                                                                                                                                                            19\n",
      "Web developer; Other                                                                                                                                                                                                                     17\n",
      "Web developer; Developer with a statistics or mathematics background; Desktop applications developer                                                                                                                                     16\n",
      "Web developer; Mobile developer; Developer with a statistics or mathematics background                                                                                                                                                   15\n",
      "Web developer; Systems administrator                                                                                                                                                                                                     15\n",
      "Web developer; Mobile developer; Desktop applications developer; Database administrator                                                                                                                                                  15\n",
      "Database administrator                                                                                                                                                                                                                   14\n",
      "DevOps specialist                                                                                                                                                                                                                        13\n",
      "Machine learning specialist; Data scientist                                                                                                                                                                                              12\n",
      "Web developer; Mobile developer; DevOps specialist                                                                                                                                                                                       11\n",
      "Web developer; Database administrator; Systems administrator                                                                                                                                                                             11\n",
      "Web developer; Embedded applications/devices developer; Desktop applications developer                                                                                                                                                   10\n",
      "                                                                                                                                                                                                                                       ... \n",
      "Web developer; Desktop applications developer; Systems administrator; Quality assurance engineer                                                                                                                                          1\n",
      "Web developer; Mobile developer; Developer with a statistics or mathematics background; Graphic designer; Desktop applications developer; Database administrator; Systems administrator                                                   1\n",
      "Web developer; Mobile developer; Developer with a statistics or mathematics background; Data scientist; Graphic designer; Desktop applications developer                                                                                  1\n",
      "Web developer; Embedded applications/devices developer; Database administrator; Systems administrator; DevOps specialist                                                                                                                  1\n",
      "Web developer; Embedded applications/devices developer; Database administrator                                                                                                                                                            1\n",
      "Web developer; Mobile developer; Developer with a statistics or mathematics background; Data scientist; Database administrator                                                                                                            1\n",
      "Web developer; Developer with a statistics or mathematics background; Systems administrator                                                                                                                                               1\n",
      "Web developer; Mobile developer; Developer with a statistics or mathematics background; Data scientist; Database administrator; Systems administrator                                                                                     1\n",
      "Web developer; Developer with a statistics or mathematics background; Graphic designer; Database administrator                                                                                                                            1\n",
      "Web developer; Mobile developer; Developer with a statistics or mathematics background; Data scientist; DevOps specialist                                                                                                                 1\n",
      "Web developer; Developer with a statistics or mathematics background; Desktop applications developer; Systems administrator; DevOps specialist                                                                                            1\n",
      "Web developer; Developer with a statistics or mathematics background; Desktop applications developer; Quality assurance engineer                                                                                                          1\n",
      "Web developer; Developer with a statistics or mathematics background; Desktop applications developer; DevOps specialist                                                                                                                   1\n",
      "Web developer; Developer with a statistics or mathematics background; Desktop applications developer; Database administrator; Systems administrator                                                                                       1\n",
      "Web developer; Mobile developer; Developer with a statistics or mathematics background; Data scientist; Graphic designer; Database administrator; Systems administrator; DevOps specialist; Quality assurance engineer                    1\n",
      "Web developer; Mobile developer; Developer with a statistics or mathematics background; Data scientist; Graphic designer; Desktop applications developer; Database administrator; DevOps specialist; Quality assurance engineer           1\n",
      "Web developer; Mobile developer; Developer with a statistics or mathematics background; Graphic designer; Desktop applications developer; Database administrator; Other                                                                   1\n",
      "Web developer; Developer with a statistics or mathematics background; Database administrator; Quality assurance engineer                                                                                                                  1\n",
      "Web developer; Mobile developer; Developer with a statistics or mathematics background; Data scientist; Graphic designer; Desktop applications developer; Database administrator; Systems administrator; Quality assurance engineer       1\n",
      "Web developer; Mobile developer; Developer with a statistics or mathematics background; Database administrator; DevOps specialist                                                                                                         1\n",
      "Web developer; Developer with a statistics or mathematics background; Data scientist; Quality assurance engineer                                                                                                                          1\n",
      "Web developer; Developer with a statistics or mathematics background; Data scientist; Graphic designer                                                                                                                                    1\n",
      "Web developer; Mobile developer; Developer with a statistics or mathematics background; Desktop applications developer; Database administrator; DevOps specialist                                                                         1\n",
      "Web developer; Developer with a statistics or mathematics background; Data scientist; Desktop applications developer; Database administrator; DevOps specialist                                                                           1\n",
      "Web developer; Developer with a statistics or mathematics background; Data scientist; Desktop applications developer; Database administrator                                                                                              1\n",
      "Web developer; Mobile developer; Developer with a statistics or mathematics background; Desktop applications developer; Database administrator; Systems administrator                                                                     1\n",
      "Web developer; Mobile developer; Developer with a statistics or mathematics background; DevOps specialist                                                                                                                                 1\n",
      "Web developer; Mobile developer; Developer with a statistics or mathematics background; Graphic designer; Database administrator                                                                                                          1\n",
      "Web developer; Mobile developer; Developer with a statistics or mathematics background; Graphic designer; Database administrator; Systems administrator                                                                                   1\n",
      "Web developer; Systems administrator; Other                                                                                                                                                                                               1\n",
      "Name: DeveloperType, dtype: int64\n"
     ]
    },
    {
     "name": "stderr",
     "output_type": "stream",
     "text": [
      "/Users/rahulporuri/Library/Enthought/Canopy/edm/envs/py36/lib/python3.6/site-packages/ipykernel/__main__.py:1: SettingWithCopyWarning: \n",
      "A value is trying to be set on a copy of a slice from a DataFrame.\n",
      "Try using .loc[row_indexer,col_indexer] = value instead\n",
      "\n",
      "See the caveats in the documentation: http://pandas.pydata.org/pandas-docs/stable/indexing.html#indexing-view-versus-copy\n",
      "  if __name__ == '__main__':\n"
     ]
    }
   ],
   "source": [
    "indian_devs[\"DeveloperType\"] = indian_devs[\"DeveloperType\"].astype(\"category\")\n",
    "print(indian_devs[\"DeveloperType\"].value_counts())"
   ]
  },
  {
   "cell_type": "code",
   "execution_count": 12,
   "metadata": {
    "collapsed": false,
    "deletable": true,
    "editable": true
   },
   "outputs": [
    {
     "name": "stderr",
     "output_type": "stream",
     "text": [
      "/Users/rahulporuri/Library/Enthought/Canopy/edm/envs/py36/lib/python3.6/site-packages/ipykernel/__main__.py:1: SettingWithCopyWarning: \n",
      "A value is trying to be set on a copy of a slice from a DataFrame.\n",
      "Try using .loc[row_indexer,col_indexer] = value instead\n",
      "\n",
      "See the caveats in the documentation: http://pandas.pydata.org/pandas-docs/stable/indexing.html#indexing-view-versus-copy\n",
      "  if __name__ == '__main__':\n"
     ]
    },
    {
     "name": "stdout",
     "output_type": "stream",
     "text": [
      "Agree                863\n",
      "Somewhat agree       723\n",
      "Disagree             531\n",
      "Strongly agree       386\n",
      "Strongly disagree    160\n",
      "Name: CompetePeers, dtype: int64\n"
     ]
    }
   ],
   "source": [
    "indian_devs[\"CompetePeers\"] = indian_devs[\"CompetePeers\"].astype(\"category\")\n",
    "print(indian_devs[\"CompetePeers\"].value_counts())"
   ]
  },
  {
   "cell_type": "code",
   "execution_count": 13,
   "metadata": {
    "collapsed": false,
    "deletable": true,
    "editable": true
   },
   "outputs": [
    {
     "name": "stdout",
     "output_type": "stream",
     "text": [
      "Disagree             1141\n",
      "Strongly disagree     725\n",
      "Somewhat agree        479\n",
      "Agree                 226\n",
      "Strongly agree        116\n",
      "Name: WorkPayCare, dtype: int64\n"
     ]
    },
    {
     "name": "stderr",
     "output_type": "stream",
     "text": [
      "/Users/rahulporuri/Library/Enthought/Canopy/edm/envs/py36/lib/python3.6/site-packages/ipykernel/__main__.py:1: SettingWithCopyWarning: \n",
      "A value is trying to be set on a copy of a slice from a DataFrame.\n",
      "Try using .loc[row_indexer,col_indexer] = value instead\n",
      "\n",
      "See the caveats in the documentation: http://pandas.pydata.org/pandas-docs/stable/indexing.html#indexing-view-versus-copy\n",
      "  if __name__ == '__main__':\n"
     ]
    }
   ],
   "source": [
    "indian_devs[\"WorkPayCare\"] = indian_devs[\"WorkPayCare\"].astype(\"category\")\n",
    "print(indian_devs[\"WorkPayCare\"].value_counts())"
   ]
  },
  {
   "cell_type": "code",
   "execution_count": 14,
   "metadata": {
    "collapsed": false,
    "deletable": true,
    "editable": true
   },
   "outputs": [
    {
     "name": "stdout",
     "output_type": "stream",
     "text": [
      "Strongly agree       889\n",
      "Agree                823\n",
      "Somewhat agree       644\n",
      "Disagree             248\n",
      "Strongly disagree     80\n",
      "Name: ChangeWorld, dtype: int64\n"
     ]
    },
    {
     "name": "stderr",
     "output_type": "stream",
     "text": [
      "/Users/rahulporuri/Library/Enthought/Canopy/edm/envs/py36/lib/python3.6/site-packages/ipykernel/__main__.py:1: SettingWithCopyWarning: \n",
      "A value is trying to be set on a copy of a slice from a DataFrame.\n",
      "Try using .loc[row_indexer,col_indexer] = value instead\n",
      "\n",
      "See the caveats in the documentation: http://pandas.pydata.org/pandas-docs/stable/indexing.html#indexing-view-versus-copy\n",
      "  if __name__ == '__main__':\n"
     ]
    }
   ],
   "source": [
    "indian_devs[\"ChangeWorld\"] = indian_devs[\"ChangeWorld\"].astype(\"category\")\n",
    "print(indian_devs[\"ChangeWorld\"].value_counts())"
   ]
  },
  {
   "cell_type": "code",
   "execution_count": 15,
   "metadata": {
    "collapsed": false,
    "deletable": true,
    "editable": true
   },
   "outputs": [
    {
     "name": "stdout",
     "output_type": "stream",
     "text": [
      "Less than a year ago         1006\n",
      "Not applicable/ never         651\n",
      "Between 1 and 2 years ago     599\n",
      "Between 2 and 4 years ago     390\n",
      "More than 4 years ago         248\n",
      "Name: LastNewJob, dtype: int64\n"
     ]
    },
    {
     "name": "stderr",
     "output_type": "stream",
     "text": [
      "/Users/rahulporuri/Library/Enthought/Canopy/edm/envs/py36/lib/python3.6/site-packages/ipykernel/__main__.py:1: SettingWithCopyWarning: \n",
      "A value is trying to be set on a copy of a slice from a DataFrame.\n",
      "Try using .loc[row_indexer,col_indexer] = value instead\n",
      "\n",
      "See the caveats in the documentation: http://pandas.pydata.org/pandas-docs/stable/indexing.html#indexing-view-versus-copy\n",
      "  if __name__ == '__main__':\n"
     ]
    }
   ],
   "source": [
    "indian_devs[\"LastNewJob\"] = indian_devs[\"LastNewJob\"].astype(\"category\")\n",
    "print(indian_devs[\"LastNewJob\"].value_counts())"
   ]
  },
  {
   "cell_type": "code",
   "execution_count": 16,
   "metadata": {
    "collapsed": false,
    "deletable": true,
    "editable": true,
    "scrolled": true
   },
   "outputs": [
    {
     "name": "stdout",
     "output_type": "stream",
     "text": [
      "LinkedIn                                               770\n",
      "LinkedIn; Naukri                                       507\n",
      "LinkedIn; Monster; Naukri                              251\n",
      "Naukri                                                 238\n",
      "Indeed; LinkedIn; Monster; Naukri                      131\n",
      "Monster; Naukri                                         96\n",
      "Indeed; LinkedIn; Naukri                                66\n",
      "Other                                                   64\n",
      "LinkedIn; Other                                         62\n",
      "LinkedIn; Naukri; Other                                 31\n",
      "Indeed; LinkedIn                                        26\n",
      "Indeed; Monster; Naukri                                 25\n",
      "LinkedIn; Monster                                       22\n",
      "Indeed; Naukri                                          19\n",
      "Monster                                                 18\n",
      "Hired.com; Indeed; LinkedIn; Monster; Naukri            18\n",
      "Hired.com; LinkedIn; Naukri                             13\n",
      "Dice; Hired.com; Indeed; LinkedIn; Monster; Naukri      12\n",
      "Indeed                                                  11\n",
      "LinkedIn; Monster; Naukri; Other                        10\n",
      "Hired.com; LinkedIn                                      9\n",
      "Hired.com; LinkedIn; Monster; Naukri                     9\n",
      "Naukri; Other                                            8\n",
      "Indeed; LinkedIn; Monster; Naukri; Other                 6\n",
      "Indeed; LinkedIn; Monster                                5\n",
      "Hired.com                                                4\n",
      "Indeed; LinkedIn; Naukri; Other                          4\n",
      "Dice; Indeed; LinkedIn; Naukri                           3\n",
      "Dice; LinkedIn; Monster; Naukri                          3\n",
      "Hired.com; Indeed; LinkedIn; Naukri                      3\n",
      "Monster; Naukri; Other                                   2\n",
      "Dice; Hired.com                                          2\n",
      "Indeed; LinkedIn; Other                                  2\n",
      "Indeed; Monster                                          2\n",
      "Hired.com; Monster; Naukri                               2\n",
      "Dice; Indeed; LinkedIn; Monster; Naukri                  2\n",
      "Hired.com; LinkedIn; Other                               2\n",
      "Indeed; Monster; Naukri; Other                           2\n",
      "Indeed; Naukri; Other                                    2\n",
      "Dice; LinkedIn                                           2\n",
      "Hired.com; Indeed; LinkedIn; Monster; Naukri; Other      2\n",
      "Dice; LinkedIn; Naukri                                   1\n",
      "Dice; Monster; Naukri                                    1\n",
      "Dice; Indeed; Monster; Naukri                            1\n",
      "Dice; Indeed; LinkedIn; Monster; Naukri; Other           1\n",
      "Dice; Hired.com; LinkedIn; Other                         1\n",
      "Hired.com; Naukri                                        1\n",
      "Hired.com; Indeed; LinkedIn                              1\n",
      "Hired.com; Indeed; LinkedIn; Monster                     1\n",
      "Hired.com; Indeed; LinkedIn; Naukri; Other               1\n",
      "Hired.com; Indeed; LinkedIn; Other                       1\n",
      "Hired.com; Indeed; Monster; Naukri                       1\n",
      "Hired.com; LinkedIn; Naukri; Other                       1\n",
      "Hired.com; Monster                                       1\n",
      "Indeed; LinkedIn; Monster; Other                         1\n",
      "LinkedIn; Monster; Other                                 1\n",
      "Monster; Other                                           1\n",
      "Dice                                                     1\n",
      "Name: JobProfile, dtype: int64\n"
     ]
    },
    {
     "name": "stderr",
     "output_type": "stream",
     "text": [
      "/Users/rahulporuri/Library/Enthought/Canopy/edm/envs/py36/lib/python3.6/site-packages/ipykernel/__main__.py:1: SettingWithCopyWarning: \n",
      "A value is trying to be set on a copy of a slice from a DataFrame.\n",
      "Try using .loc[row_indexer,col_indexer] = value instead\n",
      "\n",
      "See the caveats in the documentation: http://pandas.pydata.org/pandas-docs/stable/indexing.html#indexing-view-versus-copy\n",
      "  if __name__ == '__main__':\n"
     ]
    }
   ],
   "source": [
    "indian_devs[\"JobProfile\"] = indian_devs[\"JobProfile\"].astype(\"category\")\n",
    "print(indian_devs[\"JobProfile\"].value_counts())"
   ]
  },
  {
   "cell_type": "code",
   "execution_count": 17,
   "metadata": {
    "collapsed": false,
    "deletable": true,
    "editable": true
   },
   "outputs": [
    {
     "name": "stdout",
     "output_type": "stream",
     "text": [
      "Somewhat underpaid                370\n",
      "Neither underpaid nor overpaid    218\n",
      "Greatly underpaid                 187\n",
      "Somewhat overpaid                  32\n",
      "Greatly overpaid                   18\n",
      "Name: Overpaid, dtype: int64\n"
     ]
    },
    {
     "name": "stderr",
     "output_type": "stream",
     "text": [
      "/Users/rahulporuri/Library/Enthought/Canopy/edm/envs/py36/lib/python3.6/site-packages/ipykernel/__main__.py:1: SettingWithCopyWarning: \n",
      "A value is trying to be set on a copy of a slice from a DataFrame.\n",
      "Try using .loc[row_indexer,col_indexer] = value instead\n",
      "\n",
      "See the caveats in the documentation: http://pandas.pydata.org/pandas-docs/stable/indexing.html#indexing-view-versus-copy\n",
      "  if __name__ == '__main__':\n"
     ]
    }
   ],
   "source": [
    "indian_devs[\"Overpaid\"] = indian_devs[\"Overpaid\"].astype(\"category\")\n",
    "print(indian_devs[\"Overpaid\"].value_counts())"
   ]
  },
  {
   "cell_type": "code",
   "execution_count": 18,
   "metadata": {
    "collapsed": false,
    "deletable": true,
    "editable": true
   },
   "outputs": [
    {
     "name": "stdout",
     "output_type": "stream",
     "text": [
      "Somewhat underpaid                6017\n",
      "Neither underpaid nor overpaid    4837\n",
      "Greatly underpaid                 1555\n",
      "Somewhat overpaid                  877\n",
      "Greatly overpaid                   101\n",
      "Name: Overpaid, dtype: int64\n"
     ]
    }
   ],
   "source": [
    "df[\"Overpaid\"] = df[\"Overpaid\"].astype(\"category\")\n",
    "print(df[\"Overpaid\"].value_counts())"
   ]
  },
  {
   "cell_type": "code",
   "execution_count": 19,
   "metadata": {
    "collapsed": false,
    "deletable": true,
    "editable": true
   },
   "outputs": [
    {
     "name": "stdout",
     "output_type": "stream",
     "text": [
      "Somewhat underpaid                370\n",
      "Neither underpaid nor overpaid    218\n",
      "Greatly underpaid                 187\n",
      "Somewhat overpaid                  32\n",
      "Greatly overpaid                   18\n",
      "Name: Overpaid, dtype: int64\n"
     ]
    },
    {
     "name": "stderr",
     "output_type": "stream",
     "text": [
      "/Users/rahulporuri/Library/Enthought/Canopy/edm/envs/py36/lib/python3.6/site-packages/ipykernel/__main__.py:1: SettingWithCopyWarning: \n",
      "A value is trying to be set on a copy of a slice from a DataFrame.\n",
      "Try using .loc[row_indexer,col_indexer] = value instead\n",
      "\n",
      "See the caveats in the documentation: http://pandas.pydata.org/pandas-docs/stable/indexing.html#indexing-view-versus-copy\n",
      "  if __name__ == '__main__':\n"
     ]
    }
   ],
   "source": [
    "indian_devs[\"Overpaid\"] = indian_devs[\"Overpaid\"].astype(\"category\")\n",
    "print(indian_devs[\"Overpaid\"].value_counts())"
   ]
  },
  {
   "cell_type": "code",
   "execution_count": 20,
   "metadata": {
    "collapsed": false,
    "deletable": true,
    "editable": true,
    "scrolled": true
   },
   "outputs": [
    {
     "name": "stdout",
     "output_type": "stream",
     "text": [
      "Visual Studio                                                                                              119\n",
      "Sublime Text                                                                                                96\n",
      "Xcode                                                                                                       76\n",
      "Eclipse                                                                                                     72\n",
      "Notepad++; Visual Studio                                                                                    71\n",
      "Android Studio                                                                                              63\n",
      "Notepad++; Eclipse                                                                                          61\n",
      "Notepad++                                                                                                   57\n",
      "Visual Studio; Visual Studio Code                                                                           53\n",
      "Notepad++; Android Studio; Eclipse                                                                          36\n",
      "Notepad++; Sublime Text                                                                                     36\n",
      "Notepad++; Visual Studio; Visual Studio Code                                                                36\n",
      "Android Studio; Eclipse                                                                                     35\n",
      "Sublime Text; Vim                                                                                           32\n",
      "Vim                                                                                                         31\n",
      "NetBeans                                                                                                    29\n",
      "Notepad++; Android Studio                                                                                   23\n",
      "Atom                                                                                                        23\n",
      "Notepad++; NetBeans                                                                                         21\n",
      "Notepad++; Sublime Text; Eclipse                                                                            20\n",
      "Sublime Text; Android Studio                                                                                17\n",
      "Notepad++; Sublime Text; Visual Studio                                                                      17\n",
      "Sublime Text; Eclipse                                                                                       17\n",
      "Notepad++; Eclipse; NetBeans                                                                                17\n",
      "Notepad++; Vim; Eclipse                                                                                     16\n",
      "Atom; Sublime Text                                                                                          16\n",
      "IntelliJ                                                                                                    15\n",
      "Sublime Text; IntelliJ                                                                                      14\n",
      "Vim; Eclipse                                                                                                13\n",
      "Notepad++; Eclipse; Visual Studio                                                                           13\n",
      "                                                                                                          ... \n",
      "Atom; Notepad++; Android Studio; Visual Studio Code                                                          1\n",
      "Notepad++; Vim; NetBeans; PHPStorm                                                                           1\n",
      "Notepad++; Sublime Text; Vim; Android Studio; IntelliJ; PyCharm; Visual Studio                               1\n",
      "Atom; Sublime Text; Vim; NetBeans                                                                            1\n",
      "Sublime Text; Vim; IntelliJ; RubyMine                                                                        1\n",
      "Notepad++; Sublime Text; Eclipse; NetBeans; Visual Studio; Visual Studio Code                                1\n",
      "Atom; Emacs; Sublime Text; Vim; Eclipse; IntelliJ; NetBeans                                                  1\n",
      "Vim; Visual Studio Code; Xcode                                                                               1\n",
      "Sublime Text; Vim; Android Studio; RubyMine                                                                  1\n",
      "Atom; Sublime Text; PyCharm                                                                                  1\n",
      "Atom; Vim; PyCharm                                                                                           1\n",
      "Notepad++; Vim; Android Studio; Eclipse; NetBeans; PHPStorm; PyCharm; Visual Studio; Visual Studio Code      1\n",
      "Vim; IntelliJ; IPython / Jupyter; Visual Studio; Visual Studio Code                                          1\n",
      "Android Studio; Eclipse; Visual Studio; Xcode                                                                1\n",
      "Notepad++; Vim; Android Studio; NetBeans; Visual Studio                                                      1\n",
      "Atom; Notepad++; Android Studio; Eclipse; IntelliJ; Visual Studio                                            1\n",
      "Vim; Android Studio; NetBeans; PHPStorm                                                                      1\n",
      "Atom; Vim; Android Studio; IntelliJ; PyCharm                                                                 1\n",
      "Atom; TextMate; Eclipse; IntelliJ                                                                            1\n",
      "Sublime Text; Vim; Eclipse; NetBeans                                                                         1\n",
      "Atom; Sublime Text; Vim; Android Studio; Eclipse; Visual Studio                                              1\n",
      "Notepad++; Sublime Text; Vim; NetBeans; PHPStorm; PyCharm; Visual Studio                                     1\n",
      "Notepad++; Android Studio; IntelliJ; PHPStorm; Visual Studio                                                 1\n",
      "Sublime Text; NetBeans; PyCharm                                                                              1\n",
      "Emacs; Vim; Android Studio; Eclipse; PyCharm                                                                 1\n",
      "Atom; Notepad++; Sublime Text; Android Studio; Eclipse; RStudio; Visual Studio                               1\n",
      "Notepad++; Eclipse; NetBeans; PyCharm                                                                        1\n",
      "Android Studio; Eclipse; PyCharm; Visual Studio                                                              1\n",
      "Notepad++; Sublime Text; IntelliJ; Visual Studio                                                             1\n",
      "Notepad++; Sublime Text; Vim; Android Studio; Eclipse; Visual Studio; Xcode                                  1\n",
      "Name: IDE, dtype: int64\n"
     ]
    },
    {
     "name": "stderr",
     "output_type": "stream",
     "text": [
      "/Users/rahulporuri/Library/Enthought/Canopy/edm/envs/py36/lib/python3.6/site-packages/ipykernel/__main__.py:1: SettingWithCopyWarning: \n",
      "A value is trying to be set on a copy of a slice from a DataFrame.\n",
      "Try using .loc[row_indexer,col_indexer] = value instead\n",
      "\n",
      "See the caveats in the documentation: http://pandas.pydata.org/pandas-docs/stable/indexing.html#indexing-view-versus-copy\n",
      "  if __name__ == '__main__':\n"
     ]
    }
   ],
   "source": [
    "indian_devs[\"IDe\"] = indian_devs[\"IDE\"].astype(\"category\")\n",
    "print(indian_devs[\"IDE\"].value_counts())"
   ]
  },
  {
   "cell_type": "code",
   "execution_count": 21,
   "metadata": {
    "collapsed": false,
    "deletable": true,
    "editable": true
   },
   "outputs": [
    {
     "name": "stderr",
     "output_type": "stream",
     "text": [
      "/Users/rahulporuri/Library/Enthought/Canopy/edm/envs/py36/lib/python3.6/site-packages/ipykernel/__main__.py:1: SettingWithCopyWarning: \n",
      "A value is trying to be set on a copy of a slice from a DataFrame.\n",
      "Try using .loc[row_indexer,col_indexer] = value instead\n",
      "\n",
      "See the caveats in the documentation: http://pandas.pydata.org/pandas-docs/stable/indexing.html#indexing-view-versus-copy\n",
      "  if __name__ == '__main__':\n"
     ]
    },
    {
     "name": "stdout",
     "output_type": "stream",
     "text": [
      "10:00 AM    776\n",
      "9:00 AM     572\n",
      "8:00 AM     355\n",
      "11:00 AM    305\n",
      "Noon        195\n",
      "7:00 AM     115\n",
      "6:00 AM      65\n",
      "8:00 PM      46\n",
      "2:00 PM      41\n",
      "6:00 PM      41\n",
      "1:00 PM      41\n",
      "10:00 PM     36\n",
      "5:00 AM      36\n",
      "9:00 PM      36\n",
      "Midnight     25\n",
      "4:00 PM      24\n",
      "7:00 PM      23\n",
      "4:00 AM      21\n",
      "5:00 PM      18\n",
      "1:00 AM      16\n",
      "11:00 PM     14\n",
      "3:00 PM      12\n",
      "3:00 AM       8\n",
      "2:00 AM       3\n",
      "Name: WorkStart, dtype: int64\n"
     ]
    }
   ],
   "source": [
    "indian_devs[\"WorkStart\"] = indian_devs[\"WorkStart\"].astype(\"category\")\n",
    "print(indian_devs[\"WorkStart\"].value_counts())"
   ]
  },
  {
   "cell_type": "code",
   "execution_count": 22,
   "metadata": {
    "collapsed": false,
    "deletable": true,
    "editable": true
   },
   "outputs": [
    {
     "name": "stdout",
     "output_type": "stream",
     "text": [
      "Git                                            1510\n",
      "Subversion                                      297\n",
      "I don't use version control                     268\n",
      "Team Foundation Server                          171\n",
      "Zip file back-ups                               132\n",
      "I use some other system                          81\n",
      "Copying and pasting files to network shares      71\n",
      "Visual Source Safe                               38\n",
      "Mercurial                                        27\n",
      "Rational ClearCase                               26\n",
      "Name: VersionControl, dtype: int64\n"
     ]
    },
    {
     "name": "stderr",
     "output_type": "stream",
     "text": [
      "/Users/rahulporuri/Library/Enthought/Canopy/edm/envs/py36/lib/python3.6/site-packages/ipykernel/__main__.py:1: SettingWithCopyWarning: \n",
      "A value is trying to be set on a copy of a slice from a DataFrame.\n",
      "Try using .loc[row_indexer,col_indexer] = value instead\n",
      "\n",
      "See the caveats in the documentation: http://pandas.pydata.org/pandas-docs/stable/indexing.html#indexing-view-versus-copy\n",
      "  if __name__ == '__main__':\n"
     ]
    }
   ],
   "source": [
    "indian_devs[\"VersionControl\"] = indian_devs[\"VersionControl\"].astype(\"category\")\n",
    "print(indian_devs[\"VersionControl\"].value_counts())"
   ]
  },
  {
   "cell_type": "code",
   "execution_count": 23,
   "metadata": {
    "collapsed": false,
    "deletable": true,
    "editable": true
   },
   "outputs": [
    {
     "name": "stdout",
     "output_type": "stream",
     "text": [
      "Disagree             1045\n",
      "Somewhat agree        607\n",
      "Strongly disagree     355\n",
      "Agree                 326\n",
      "Strongly agree        103\n",
      "Name: DifficultCommunication, dtype: int64\n"
     ]
    },
    {
     "name": "stderr",
     "output_type": "stream",
     "text": [
      "/Users/rahulporuri/Library/Enthought/Canopy/edm/envs/py36/lib/python3.6/site-packages/ipykernel/__main__.py:1: SettingWithCopyWarning: \n",
      "A value is trying to be set on a copy of a slice from a DataFrame.\n",
      "Try using .loc[row_indexer,col_indexer] = value instead\n",
      "\n",
      "See the caveats in the documentation: http://pandas.pydata.org/pandas-docs/stable/indexing.html#indexing-view-versus-copy\n",
      "  if __name__ == '__main__':\n"
     ]
    }
   ],
   "source": [
    "indian_devs[\"DifficultCommunication\"] = indian_devs[\"DifficultCommunication\"].astype(\"category\")\n",
    "print(indian_devs[\"DifficultCommunication\"].value_counts())"
   ]
  },
  {
   "cell_type": "code",
   "execution_count": 24,
   "metadata": {
    "collapsed": false,
    "deletable": true,
    "editable": true
   },
   "outputs": [
    {
     "name": "stdout",
     "output_type": "stream",
     "text": [
      "Male                           2422\n",
      "Female                          230\n",
      "Male; Other                       6\n",
      "Other                             4\n",
      "Gender non-conforming             4\n",
      "Male; Female                      3\n",
      "Transgender                       1\n",
      "Male; Gender non-conforming       1\n",
      "Male; Female; Transgender         1\n",
      "Name: Gender, dtype: int64\n"
     ]
    },
    {
     "name": "stderr",
     "output_type": "stream",
     "text": [
      "/Users/rahulporuri/Library/Enthought/Canopy/edm/envs/py36/lib/python3.6/site-packages/ipykernel/__main__.py:1: SettingWithCopyWarning: \n",
      "A value is trying to be set on a copy of a slice from a DataFrame.\n",
      "Try using .loc[row_indexer,col_indexer] = value instead\n",
      "\n",
      "See the caveats in the documentation: http://pandas.pydata.org/pandas-docs/stable/indexing.html#indexing-view-versus-copy\n",
      "  if __name__ == '__main__':\n"
     ]
    }
   ],
   "source": [
    "indian_devs[\"Gender\"] = indian_devs[\"Gender\"].astype(\"category\")\n",
    "print(indian_devs[\"Gender\"].value_counts())"
   ]
  }
 ],
 "metadata": {
  "kernelspec": {
   "display_name": "Python 3",
   "language": "python",
   "name": "python3"
  },
  "language_info": {
   "codemirror_mode": {
    "name": "ipython",
    "version": 3
   },
   "file_extension": ".py",
   "mimetype": "text/x-python",
   "name": "python",
   "nbconvert_exporter": "python",
   "pygments_lexer": "ipython3",
   "version": "3.6.0"
  }
 },
 "nbformat": 4,
 "nbformat_minor": 2
}
