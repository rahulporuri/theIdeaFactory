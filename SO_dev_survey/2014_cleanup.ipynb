{
 "cells": [
  {
   "cell_type": "code",
   "execution_count": 1,
   "metadata": {
    "collapsed": true,
    "deletable": true,
    "editable": true
   },
   "outputs": [],
   "source": [
    "import pandas as pd\n",
    "df = pd.read_table(\"/Users/rahulporuri/Downloads/SO-survey-data/2014_Stack_Overflow_Survey_Responses.csv\",\n",
    "                   sep=\",\", engine=\"python\")"
   ]
  },
  {
   "cell_type": "code",
   "execution_count": 2,
   "metadata": {
    "collapsed": true
   },
   "outputs": [],
   "source": [
    "df[\"Country\"] = df[\"What Country do you live in?\"].str.cat(\n",
    "    [df[\"Unnamed: 1\"]], na_rep=\"\", sep=\",\")\n",
    "\n",
    "df = df.drop([\"What Country do you live in?\", \"Unnamed: 1\"], axis=1)"
   ]
  },
  {
   "cell_type": "code",
   "execution_count": 3,
   "metadata": {
    "collapsed": true
   },
   "outputs": [],
   "source": [
    "df[\"PlatformSupport\"] = df[\"If your company has a native mobile app, what platforms do you support?\"].str.cat(\n",
    "    [df[\"Unnamed: 14\"], df[\"Unnamed: 15\"], df[\"Unnamed: 16\"],\n",
    "     df[\"Unnamed: 17\"], df[\"Unnamed: 18\"], df[\"Unnamed: 19\"]],\n",
    "    na_rep=\"\", sep=\",\")\n",
    "\n",
    "df = df.drop([\"If your company has a native mobile app, what platforms do you support?\",\n",
    "              \"Unnamed: 14\", \"Unnamed: 15\", \"Unnamed: 16\", \"Unnamed: 17\", \"Unnamed: 18\", \"Unnamed: 19\"] , axis=1)"
   ]
  },
  {
   "cell_type": "code",
   "execution_count": 4,
   "metadata": {
    "collapsed": true
   },
   "outputs": [],
   "source": [
    "df[\"PurchasingInvolvement\"] = df[\"What is your involvement in purchasing products or services for the company you work for? (You can choose more than one)\"].str.cat(\n",
    "    [df[\"Unnamed: 30\"], df[\"Unnamed: 31\"], df[\"Unnamed: 32\"], df[\"Unnamed: 33\"]],\n",
    "    na_rep=\"\", sep=\",\")\n",
    "\n",
    "df = df.drop([\"What is your involvement in purchasing products or services for the company you work for? (You can choose more than one)\",\n",
    "              \"Unnamed: 30\", \"Unnamed: 31\", \"Unnamed: 32\", \"Unnamed: 33\"],\n",
    "             axis=1)"
   ]
  },
  {
   "cell_type": "code",
   "execution_count": 5,
   "metadata": {
    "collapsed": true
   },
   "outputs": [],
   "source": [
    "df[\"PurchasingInvolvementType\"] = df[\"What types of purchases are you involved in?\"].str.cat(\n",
    "    [df[\"Unnamed: 35\"], df[\"Unnamed: 36\"], df[\"Unnamed: 37\"],\n",
    "     df[\"Unnamed: 38\"], df[\"Unnamed: 39\"], df[\"Unnamed: 40\"]],\n",
    "    na_rep=\"\", sep=\",\")\n",
    "\n",
    "df = df.drop([\"What types of purchases are you involved in?\",\n",
    "              \"Unnamed: 35\", \"Unnamed: 36\", \"Unnamed: 37\", \"Unnamed: 38\", \"Unnamed: 39\", \"Unnamed: 40\"],\n",
    "             axis=1)"
   ]
  },
  {
   "cell_type": "code",
   "execution_count": 6,
   "metadata": {
    "collapsed": true
   },
   "outputs": [],
   "source": [
    "df[\"LanguageExperience\"] = df[\"Which of the following languages or technologies have you used significantly in the past year?\"].str.cat(\n",
    "    [df[\"Unnamed: 43\"], df[\"Unnamed: 44\"], df[\"Unnamed: 45\"], df[\"Unnamed: 46\"],\n",
    "     df[\"Unnamed: 47\"], df[\"Unnamed: 48\"], df[\"Unnamed: 49\"], df[\"Unnamed: 50\"],\n",
    "     df[\"Unnamed: 51\"], df[\"Unnamed: 52\"], df[\"Unnamed: 53\"]],\n",
    "    na_rep=\"\", sep=\",\")\n",
    "\n",
    "df = df.drop([\"Which of the following languages or technologies have you used significantly in the past year?\",\n",
    "              \"Unnamed: 43\", \"Unnamed: 44\", \"Unnamed: 45\", \"Unnamed: 46\", \"Unnamed: 47\", \"Unnamed: 48\",\n",
    "              \"Unnamed: 49\", \"Unnamed: 50\", \"Unnamed: 51\", \"Unnamed: 52\", \"Unnamed: 53\"],\n",
    "             axis=1)"
   ]
  },
  {
   "cell_type": "code",
   "execution_count": 7,
   "metadata": {
    "collapsed": true
   },
   "outputs": [],
   "source": [
    "df[\"LanguageInterest\"] = df[\"Which technologies are you excited about?\"].str.cat(\n",
    "    [df[\"Unnamed: 55\"], df[\"Unnamed: 56\"], df[\"Unnamed: 57\"], df[\"Unnamed: 58\"],\n",
    "     df[\"Unnamed: 59\"], df[\"Unnamed: 60\"], df[\"Unnamed: 61\"], df[\"Unnamed: 62\"],\n",
    "     df[\"Unnamed: 63\"], df[\"Unnamed: 64\"], df[\"Unnamed: 65\"], df[\"Unnamed: 66\"]],\n",
    "    na_rep=\"\", sep=\",\")\n",
    "\n",
    "df = df.drop([\"Which technologies are you excited about?\",\n",
    "              \"Unnamed: 55\", \"Unnamed: 56\", \"Unnamed: 57\", \"Unnamed: 58\", \"Unnamed: 59\", \"Unnamed: 60\",\n",
    "              \"Unnamed: 61\", \"Unnamed: 62\", \"Unnamed: 63\", \"Unnamed: 64\", \"Unnamed: 65\", \"Unnamed: 66\"],\n",
    "             axis=1)"
   ]
  },
  {
   "cell_type": "code",
   "execution_count": 8,
   "metadata": {
    "collapsed": true
   },
   "outputs": [],
   "source": [
    "df[\"TechProduct\"] = df[\"Which technology products do you own? (You can choose more than one)\"].str.cat(\n",
    "    [df[\"Unnamed: 69\"], df[\"Unnamed: 70\"], df[\"Unnamed: 71\"], df[\"Unnamed: 72\"],\n",
    "     df[\"Unnamed: 73\"], df[\"Unnamed: 74\"], df[\"Unnamed: 75\"], df[\"Unnamed: 76\"],\n",
    "     df[\"Unnamed: 77\"], df[\"Unnamed: 78\"], df[\"Unnamed: 79\"], df[\"Unnamed: 80\"],\n",
    "     df[\"Unnamed: 81\"]],\n",
    "    na_rep=\"\", sep=\",\")\n",
    "\n",
    "df = df.drop([\"Which technology products do you own? (You can choose more than one)\",\n",
    "              \"Unnamed: 69\", \"Unnamed: 70\", \"Unnamed: 71\", \"Unnamed: 72\",\n",
    "              \"Unnamed: 73\", \"Unnamed: 74\", \"Unnamed: 75\", \"Unnamed: 76\",\n",
    "              \"Unnamed: 77\", \"Unnamed: 78\", \"Unnamed: 79\", \"Unnamed: 80\", \"Unnamed: 81\"],\n",
    "             axis=1)"
   ]
  },
  {
   "cell_type": "code",
   "execution_count": 9,
   "metadata": {
    "collapsed": true
   },
   "outputs": [],
   "source": [
    "df[\"JobOpportunities\"] = df[\"How do you prefer to be contacted about job opportunities?\"].str.cat(\n",
    "    [df[\"Unnamed: 88\"], df[\"Unnamed: 89\"], df[\"Unnamed: 90\"], df[\"Unnamed: 91\"]],\n",
    "    na_rep=\"\", sep=\",\")\n",
    "\n",
    "df = df.drop([\"How do you prefer to be contacted about job opportunities?\",\n",
    "              \"Unnamed: 88\", \"Unnamed: 89\", \"Unnamed: 90\", \"Unnamed: 91\"],\n",
    "             axis=1)"
   ]
  },
  {
   "cell_type": "code",
   "execution_count": 10,
   "metadata": {
    "collapsed": true
   },
   "outputs": [],
   "source": [
    "df[\"UsingStackOverflow\"] = df[\"How do you use Stack Overflow?\"].str.cat(\n",
    "    [df[\"Unnamed: 114\"], df[\"Unnamed: 115\"], df[\"Unnamed: 116\"], df[\"Unnamed: 117\"], df[\"Unnamed: 118\"]],\n",
    "    na_rep=\"\", sep=\",\")\n",
    "\n",
    "df = df.drop([\"How do you use Stack Overflow?\",\n",
    "              \"Unnamed: 115\", \"Unnamed: 116\", \"Unnamed: 117\", \"Unnamed: 118\"],\n",
    "             axis=1)"
   ]
  },
  {
   "cell_type": "code",
   "execution_count": 11,
   "metadata": {
    "collapsed": false,
    "deletable": true,
    "editable": true
   },
   "outputs": [],
   "source": [
    "df = df.drop(0)"
   ]
  },
  {
   "cell_type": "code",
   "execution_count": 12,
   "metadata": {
    "collapsed": true,
    "deletable": true,
    "editable": true
   },
   "outputs": [],
   "source": [
    "df.to_csv(\"2014_survey_cleaned.csv\", index=False)"
   ]
  }
 ],
 "metadata": {
  "kernelspec": {
   "display_name": "Python 3",
   "language": "python",
   "name": "python3"
  },
  "language_info": {
   "codemirror_mode": {
    "name": "ipython",
    "version": 3
   },
   "file_extension": ".py",
   "mimetype": "text/x-python",
   "name": "python",
   "nbconvert_exporter": "python",
   "pygments_lexer": "ipython3",
   "version": "3.6.0"
  }
 },
 "nbformat": 4,
 "nbformat_minor": 2
}
