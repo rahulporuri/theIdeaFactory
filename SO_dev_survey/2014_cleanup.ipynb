{
 "cells": [
  {
   "cell_type": "code",
   "execution_count": 1,
   "metadata": {
    "collapsed": true,
    "deletable": true,
    "editable": true
   },
   "outputs": [],
   "source": [
    "import pandas as pd\n",
    "\n",
    "filename = \"/Users/rahulporuri/Downloads/SO-survey-data/2014_Stack_Overflow_Survey_Responses.csv\"\n",
    "df = pd.read_table(filename, sep=\",\", engine=\"python\")"
   ]
  },
  {
   "cell_type": "code",
   "execution_count": 2,
   "metadata": {
    "collapsed": true,
    "deletable": true,
    "editable": true
   },
   "outputs": [],
   "source": [
    "df[\"Country\"] = df[\"What Country do you live in?\"].str.cat(\n",
    "    [df[\"Unnamed: 1\"]], na_rep=\"\", sep=\"-\")\n",
    "\n",
    "df = df.drop([\"What Country do you live in?\", \"Unnamed: 1\"], axis=1)"
   ]
  },
  {
   "cell_type": "code",
   "execution_count": 3,
   "metadata": {
    "collapsed": true,
    "deletable": true,
    "editable": true
   },
   "outputs": [],
   "source": [
    "col_name = \"If your company has a native mobile app, what platforms do you support?\"\n",
    "\n",
    "df[\"PlatformSupport\"] = df[col_name].str.cat(\n",
    "    [df[\"Unnamed: 14\"], df[\"Unnamed: 15\"], df[\"Unnamed: 16\"],\n",
    "     df[\"Unnamed: 17\"], df[\"Unnamed: 18\"], df[\"Unnamed: 19\"]\n",
    "    ], na_rep=\"\", sep=\"-\")\n",
    "\n",
    "df = df.drop([col_name, \"Unnamed: 14\", \"Unnamed: 15\", \"Unnamed: 16\",\n",
    "              \"Unnamed: 17\", \"Unnamed: 18\", \"Unnamed: 19\"\n",
    "             ], axis=1)"
   ]
  },
  {
   "cell_type": "code",
   "execution_count": 4,
   "metadata": {
    "collapsed": true,
    "deletable": true,
    "editable": true
   },
   "outputs": [],
   "source": [
    "col_name = \"What is your involvement in purchasing products or services for the company you work for? (You can choose more than one)\"\n",
    "\n",
    "df[\"PurchasingInvolvement\"] = df[col_name].str.cat(\n",
    "    [df[\"Unnamed: 30\"], df[\"Unnamed: 31\"],\n",
    "     df[\"Unnamed: 32\"], df[\"Unnamed: 33\"]\n",
    "    ], na_rep=\"\", sep=\"-\")\n",
    "\n",
    "df = df.drop([col_name, \"Unnamed: 30\", \"Unnamed: 31\",\n",
    "              \"Unnamed: 32\", \"Unnamed: 33\"], axis=1)"
   ]
  },
  {
   "cell_type": "code",
   "execution_count": 5,
   "metadata": {
    "collapsed": true,
    "deletable": true,
    "editable": true
   },
   "outputs": [],
   "source": [
    "col_name = \"What types of purchases are you involved in?\"\n",
    "\n",
    "df[\"PurchasingInvolvementType\"] = df[col_name].str.cat(\n",
    "    [df[\"Unnamed: 35\"], df[\"Unnamed: 36\"], df[\"Unnamed: 37\"],\n",
    "     df[\"Unnamed: 38\"], df[\"Unnamed: 39\"], df[\"Unnamed: 40\"]\n",
    "    ], na_rep=\"\", sep=\"-\")\n",
    "\n",
    "df = df.drop([col_name, \"Unnamed: 35\", \"Unnamed: 36\", \"Unnamed: 37\",\n",
    "              \"Unnamed: 38\", \"Unnamed: 39\", \"Unnamed: 40\"\n",
    "             ], axis=1)"
   ]
  },
  {
   "cell_type": "code",
   "execution_count": 6,
   "metadata": {
    "collapsed": false,
    "deletable": true,
    "editable": true
   },
   "outputs": [],
   "source": [
    "col_name = \"Which of the following languages or technologies have you used significantly in the past year?\"\n",
    "\n",
    "df[\"LanguageExperience\"] = df[col_name].str.cat(\n",
    "    [df[\"Unnamed: 43\"], df[\"Unnamed: 44\"], df[\"Unnamed: 45\"],\n",
    "     df[\"Unnamed: 46\"], df[\"Unnamed: 47\"], df[\"Unnamed: 48\"],\n",
    "     df[\"Unnamed: 49\"], df[\"Unnamed: 50\"], df[\"Unnamed: 51\"],\n",
    "     df[\"Unnamed: 52\"], df[\"Unnamed: 53\"]\n",
    "    ], na_rep=\"\", sep=\"-\")\n",
    "\n",
    "df = df.drop([col_name, \"Unnamed: 43\", \"Unnamed: 44\", \"Unnamed: 45\",\n",
    "              \"Unnamed: 46\", \"Unnamed: 47\", \"Unnamed: 48\",\n",
    "              \"Unnamed: 49\", \"Unnamed: 50\", \"Unnamed: 51\",\n",
    "              \"Unnamed: 52\", \"Unnamed: 53\"\n",
    "             ], axis=1)"
   ]
  },
  {
   "cell_type": "code",
   "execution_count": 7,
   "metadata": {
    "collapsed": false,
    "deletable": true,
    "editable": true
   },
   "outputs": [],
   "source": [
    "col_name = \"Which technologies are you excited about?\"\n",
    "\n",
    "df[\"LanguageInterest\"] = df[col_name].str.cat(\n",
    "    [df[\"Unnamed: 55\"], df[\"Unnamed: 56\"], df[\"Unnamed: 57\"],\n",
    "     df[\"Unnamed: 58\"], df[\"Unnamed: 59\"], df[\"Unnamed: 60\"],\n",
    "     df[\"Unnamed: 61\"], df[\"Unnamed: 62\"], df[\"Unnamed: 63\"],\n",
    "     df[\"Unnamed: 64\"], df[\"Unnamed: 65\"], df[\"Unnamed: 66\"]\n",
    "    ], na_rep=\"\", sep=\"-\")\n",
    "\n",
    "df = df.drop([col_name, \"Unnamed: 55\", \"Unnamed: 56\", \"Unnamed: 57\",\n",
    "              \"Unnamed: 58\", \"Unnamed: 59\", \"Unnamed: 60\",\n",
    "              \"Unnamed: 61\", \"Unnamed: 62\", \"Unnamed: 63\",\n",
    "              \"Unnamed: 64\", \"Unnamed: 65\", \"Unnamed: 66\"\n",
    "             ], axis=1)"
   ]
  },
  {
   "cell_type": "code",
   "execution_count": 8,
   "metadata": {
    "collapsed": false,
    "deletable": true,
    "editable": true
   },
   "outputs": [],
   "source": [
    "col_name = \"Which technology products do you own? (You can choose more than one)\"\n",
    "\n",
    "df[\"TechProduct\"] = df[col_name].str.cat(\n",
    "    [df[\"Unnamed: 69\"], df[\"Unnamed: 70\"], df[\"Unnamed: 71\"],\n",
    "     df[\"Unnamed: 72\"], df[\"Unnamed: 73\"], df[\"Unnamed: 74\"],\n",
    "     df[\"Unnamed: 75\"], df[\"Unnamed: 76\"], df[\"Unnamed: 77\"],\n",
    "     df[\"Unnamed: 78\"], df[\"Unnamed: 79\"], df[\"Unnamed: 80\"],\n",
    "     df[\"Unnamed: 81\"]\n",
    "    ], na_rep=\"\", sep=\"-\")\n",
    "\n",
    "df = df.drop([col_name, \"Unnamed: 69\", \"Unnamed: 70\", \"Unnamed: 71\",\n",
    "              \"Unnamed: 72\", \"Unnamed: 73\", \"Unnamed: 74\",\n",
    "              \"Unnamed: 75\", \"Unnamed: 76\", \"Unnamed: 77\",\n",
    "              \"Unnamed: 78\", \"Unnamed: 79\", \"Unnamed: 80\", \"Unnamed: 81\"\n",
    "             ], axis=1)"
   ]
  },
  {
   "cell_type": "code",
   "execution_count": 9,
   "metadata": {
    "collapsed": true,
    "deletable": true,
    "editable": true
   },
   "outputs": [],
   "source": [
    "col_name = \"How do you prefer to be contacted about job opportunities?\"\n",
    "\n",
    "df[\"JobOpportunities\"] = df[col_name].str.cat(\n",
    "    [df[\"Unnamed: 88\"], df[\"Unnamed: 89\"],\n",
    "     df[\"Unnamed: 90\"], df[\"Unnamed: 91\"]\n",
    "    ], na_rep=\"\", sep=\"-\")\n",
    "\n",
    "df = df.drop([col_name, \"Unnamed: 88\", \"Unnamed: 89\",\n",
    "              \"Unnamed: 90\", \"Unnamed: 91\"\n",
    "             ], axis=1)"
   ]
  },
  {
   "cell_type": "code",
   "execution_count": 10,
   "metadata": {
    "collapsed": false,
    "deletable": true,
    "editable": true
   },
   "outputs": [],
   "source": [
    "col_name = \"How do you use Stack Overflow?\"\n",
    "\n",
    "df[\"UsingStackOverflow\"] = df[col_name].str.cat(\n",
    "    [df[\"Unnamed: 114\"], df[\"Unnamed: 115\"], df[\"Unnamed: 116\"],\n",
    "     df[\"Unnamed: 117\"], df[\"Unnamed: 118\"]\n",
    "    ], na_rep=\"\", sep=\"-\")\n",
    "\n",
    "df = df.drop([col_name, \"Unnamed: 115\", \"Unnamed: 116\",\n",
    "              \"Unnamed: 117\", \"Unnamed: 118\"\n",
    "             ], axis=1)"
   ]
  },
  {
   "cell_type": "code",
   "execution_count": 11,
   "metadata": {
    "collapsed": false,
    "deletable": true,
    "editable": true
   },
   "outputs": [],
   "source": [
    "df = df.drop(0)"
   ]
  },
  {
   "cell_type": "code",
   "execution_count": 12,
   "metadata": {
    "collapsed": true,
    "deletable": true,
    "editable": true
   },
   "outputs": [],
   "source": [
    "df.to_csv(\"2014_survey_cleaned.csv\", index=False)"
   ]
  }
 ],
 "metadata": {
  "kernelspec": {
   "display_name": "Python 3",
   "language": "python",
   "name": "python3"
  },
  "language_info": {
   "codemirror_mode": {
    "name": "ipython",
    "version": 3
   },
   "file_extension": ".py",
   "mimetype": "text/x-python",
   "name": "python",
   "nbconvert_exporter": "python",
   "pygments_lexer": "ipython3",
   "version": "3.6.0"
  }
 },
 "nbformat": 4,
 "nbformat_minor": 2
}
