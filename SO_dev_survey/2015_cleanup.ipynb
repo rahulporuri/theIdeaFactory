{
 "cells": [
  {
   "cell_type": "code",
   "execution_count": 1,
   "metadata": {
    "collapsed": true,
    "deletable": true,
    "editable": true
   },
   "outputs": [],
   "source": [
    "import pandas as pd\n",
    "df = pd.read_table(\"/Users/rahulporuri/Downloads/SO-survey-data/2015_Stack_Overflow_Developer_Survey_Responses.csv\",\n",
    "                   sep=\",\", engine=\"python\", header=1)"
   ]
  },
  {
   "cell_type": "code",
   "execution_count": 2,
   "metadata": {
    "collapsed": false
   },
   "outputs": [],
   "source": [
    "df[\"LanguageExperience\"] = df[\"Current Lang & Tech: Android\"].str.cat(\n",
    "    [df[\"Current Lang & Tech: AngularJS\"], df[\"Current Lang & Tech: Arduino\"], df[\"Current Lang & Tech: C\"],\n",
    "     df[\"Current Lang & Tech: C#\"], df[\"Current Lang & Tech: C++\"], df[\"Current Lang & Tech: C++11\"],\n",
    "     df[\"Current Lang & Tech: Cassandra\"], df[\"Current Lang & Tech: Clojure\"], df[\"Current Lang & Tech: Cloud\"],\n",
    "     df[\"Current Lang & Tech: CoffeeScript\"], df[\"Current Lang & Tech: Cordova\"], df[\"Current Lang & Tech: Dart\"],\n",
    "     df[\"Current Lang & Tech: F#\"], df[\"Current Lang & Tech: Go\"], df[\"Current Lang & Tech: Hadoop\"],\n",
    "     df[\"Current Lang & Tech: Haskell\"], df[\"Current Lang & Tech: iOS\"], df[\"Current Lang & Tech: Java\"],\n",
    "     df[\"Current Lang & Tech: JavaScript\"], df[\"Current Lang & Tech: LAMP\"], df[\"Current Lang & Tech: Matlab\"],\n",
    "     df[\"Current Lang & Tech: MongoDB\"], df[\"Current Lang & Tech: Node.js\"], df[\"Current Lang & Tech: Objective-C\"],\n",
    "     df[\"Current Lang & Tech: Perl\"], df[\"Current Lang & Tech: PHP\"], df[\"Current Lang & Tech: Python\"],\n",
    "     df[\"Current Lang & Tech: R\"], df[\"Current Lang & Tech: Redis\"], df[\"Current Lang & Tech: Ruby\"],\n",
    "     df[\"Current Lang & Tech: Rust\"], df[\"Current Lang & Tech: Salesforce\"], df[\"Current Lang & Tech: Scala\"],\n",
    "     df[\"Current Lang & Tech: Sharepoint\"], df[\"Current Lang & Tech: Spark\"], df[\"Current Lang & Tech: SQL\"],\n",
    "     df[\"Current Lang & Tech: SQL Server\"], df[\"Current Lang & Tech: Swift\"], df[\"Current Lang & Tech: Visual Basic\"],\n",
    "     df[\"Current Lang & Tech: Windows Phone\"], df[\"Current Lang & Tech: Wordpress\"], df[\"Current Lang & Tech: Write-In\"]],\n",
    "    na_rep=\"\", sep=\",\")\n",
    "\n",
    "df = df.drop([\"Current Lang & Tech: Android\", \"Current Lang & Tech: AngularJS\", \"Current Lang & Tech: Arduino\",\n",
    "              \"Current Lang & Tech: C\", \"Current Lang & Tech: C#\", \"Current Lang & Tech: C++\",\n",
    "              \"Current Lang & Tech: C++11\", \"Current Lang & Tech: Cassandra\", \"Current Lang & Tech: Clojure\", \n",
    "              \"Current Lang & Tech: Cloud\", \"Current Lang & Tech: CoffeeScript\", \"Current Lang & Tech: Cordova\",\n",
    "              \"Current Lang & Tech: Dart\", \"Current Lang & Tech: F#\", \"Current Lang & Tech: Go\",\n",
    "              \"Current Lang & Tech: Hadoop\", \"Current Lang & Tech: Haskell\", \"Current Lang & Tech: iOS\", \n",
    "              \"Current Lang & Tech: Java\", \"Current Lang & Tech: JavaScript\", \"Current Lang & Tech: LAMP\",\n",
    "              \"Current Lang & Tech: Matlab\", \"Current Lang & Tech: MongoDB\", \"Current Lang & Tech: Node.js\",\n",
    "              \"Current Lang & Tech: Objective-C\", \"Current Lang & Tech: Perl\", \"Current Lang & Tech: PHP\",\n",
    "              \"Current Lang & Tech: Python\", \"Current Lang & Tech: R\", \"Current Lang & Tech: Redis\",\n",
    "              \"Current Lang & Tech: Ruby\", \"Current Lang & Tech: Rust\", \"Current Lang & Tech: Salesforce\",\n",
    "              \"Current Lang & Tech: Scala\", \"Current Lang & Tech: Sharepoint\", \"Current Lang & Tech: Spark\",\n",
    "              \"Current Lang & Tech: SQL\", \"Current Lang & Tech: SQL Server\", \"Current Lang & Tech: Swift\",\n",
    "              \"Current Lang & Tech: Visual Basic\", \"Current Lang & Tech: Windows Phone\",\n",
    "              \"Current Lang & Tech: Wordpress\", \"Current Lang & Tech: Write-In\"],\n",
    "             axis=1)"
   ]
  },
  {
   "cell_type": "code",
   "execution_count": 3,
   "metadata": {
    "collapsed": true
   },
   "outputs": [],
   "source": [
    "df[\"LanguageInterest\"] = df[\"Future Lang & Tech: Android\"].str.cat(\n",
    "    [df[\"Future Lang & Tech: AngularJS\"], df[\"Future Lang & Tech: Arduino\"], df[\"Future Lang & Tech: C\"],\n",
    "     df[\"Future Lang & Tech: C#\"], df[\"Future Lang & Tech: C++\"], df[\"Future Lang & Tech: C++11\"],\n",
    "     df[\"Future Lang & Tech: Cassandra\"], df[\"Future Lang & Tech: Clojure\"], df[\"Future Lang & Tech: Cloud\"],\n",
    "     df[\"Future Lang & Tech: CoffeeScript\"], df[\"Future Lang & Tech: Cordova\"], df[\"Future Lang & Tech: Dart\"],\n",
    "     df[\"Future Lang & Tech: F#\"], df[\"Future Lang & Tech: Go\"], df[\"Future Lang & Tech: Hadoop\"],\n",
    "     df[\"Future Lang & Tech: Haskell\"], df[\"Future Lang & Tech: iOS\"], df[\"Future Lang & Tech: Java\"],\n",
    "     df[\"Future Lang & Tech: JavaScript\"], df[\"Future Lang & Tech: LAMP\"], df[\"Future Lang & Tech: Matlab\"],\n",
    "     df[\"Future Lang & Tech: MongoDB\"], df[\"Future Lang & Tech: Node.js\"], df[\"Future Lang & Tech: Objective-C\"],\n",
    "     df[\"Future Lang & Tech: Perl\"], df[\"Future Lang & Tech: PHP\"], df[\"Future Lang & Tech: Python\"],\n",
    "     df[\"Future Lang & Tech: R\"], df[\"Future Lang & Tech: Redis\"], df[\"Future Lang & Tech: Ruby\"],\n",
    "     df[\"Future Lang & Tech: Rust\"], df[\"Future Lang & Tech: Salesforce\"], df[\"Future Lang & Tech: Scala\"],\n",
    "     df[\"Future Lang & Tech: Sharepoint\"], df[\"Future Lang & Tech: Spark\"], df[\"Future Lang & Tech: SQL\"],\n",
    "     df[\"Future Lang & Tech: SQL Server\"], df[\"Future Lang & Tech: Swift\"], df[\"Future Lang & Tech: Visual Basic\"],\n",
    "     df[\"Future Lang & Tech: Windows Phone\"], df[\"Future Lang & Tech: Wordpress\"], df[\"Future Lang & Tech: Write-In\"]],\n",
    "    na_rep=\"\", sep=\",\")\n",
    "\n",
    "df = df.drop([\"Future Lang & Tech: Android\", \"Future Lang & Tech: AngularJS\", \"Future Lang & Tech: Arduino\",\n",
    "              \"Future Lang & Tech: C\", \"Future Lang & Tech: C#\", \"Future Lang & Tech: C++\",\n",
    "              \"Future Lang & Tech: C++11\", \"Future Lang & Tech: Cassandra\", \"Future Lang & Tech: Clojure\", \n",
    "              \"Future Lang & Tech: Cloud\", \"Future Lang & Tech: CoffeeScript\", \"Future Lang & Tech: Cordova\",\n",
    "              \"Future Lang & Tech: Dart\", \"Future Lang & Tech: F#\", \"Future Lang & Tech: Go\",\n",
    "              \"Future Lang & Tech: Hadoop\", \"Future Lang & Tech: Haskell\", \"Future Lang & Tech: iOS\", \n",
    "              \"Future Lang & Tech: Java\", \"Future Lang & Tech: JavaScript\", \"Future Lang & Tech: LAMP\",\n",
    "              \"Future Lang & Tech: Matlab\", \"Future Lang & Tech: MongoDB\", \"Future Lang & Tech: Node.js\",\n",
    "              \"Future Lang & Tech: Objective-C\", \"Future Lang & Tech: Perl\", \"Future Lang & Tech: PHP\",\n",
    "              \"Future Lang & Tech: Python\", \"Future Lang & Tech: R\", \"Future Lang & Tech: Redis\",\n",
    "              \"Future Lang & Tech: Ruby\", \"Future Lang & Tech: Rust\", \"Future Lang & Tech: Salesforce\",\n",
    "              \"Future Lang & Tech: Scala\", \"Future Lang & Tech: Sharepoint\", \"Future Lang & Tech: Spark\",\n",
    "              \"Future Lang & Tech: SQL\", \"Future Lang & Tech: SQL Server\", \"Future Lang & Tech: Swift\",\n",
    "              \"Future Lang & Tech: Visual Basic\", \"Future Lang & Tech: Windows Phone\",\n",
    "              \"Future Lang & Tech: Wordpress\", \"Future Lang & Tech: Write-In\"],\n",
    "             axis=1)"
   ]
  },
  {
   "cell_type": "code",
   "execution_count": 4,
   "metadata": {
    "collapsed": true
   },
   "outputs": [],
   "source": [
    "df[\"Training\"] = df[\"Training & Education: Boot camp or night school\"].str.cat(\n",
    "    [df[\"Training & Education: BS in CS\"], df[\"Training & Education: Industry certification\"],\n",
    "     df[\"Training & Education: Masters in CS\"],\n",
    "     df[\"Training & Education: Mentorship\"], df[\"Training & Education: No formal training\"],\n",
    "     df[\"Training & Education: On the job\"],\n",
    "     df[\"Training & Education: Online Class\"], df[\"Training & Education: Other\"],\n",
    "     df[\"Training & Education: PhD in CS\"],\n",
    "     df[\"Training & Education: Some college, but no CS degree\"]],\n",
    "    na_rep=\"\", sep=\",\")\n",
    "\n",
    "df = df.drop([\"Training & Education: Boot camp or night school\",\n",
    "     \"Training & Education: BS in CS\", \"Training & Education: Industry certification\",\n",
    "     \"Training & Education: Masters in CS\",\n",
    "     \"Training & Education: Mentorship\", \"Training & Education: No formal training\",\n",
    "     \"Training & Education: On the job\",\n",
    "     \"Training & Education: Online Class\", \"Training & Education: Other\",\n",
    "     \"Training & Education: PhD in CS\",\n",
    "     \"Training & Education: Some college, but no CS degree\"], axis=1)"
   ]
  },
  {
   "cell_type": "code",
   "execution_count": 5,
   "metadata": {
    "collapsed": true
   },
   "outputs": [],
   "source": [
    "df[\"JobSearchProblem\"] = df[\"Most annoying about job search: Finding interesting job\"].str.cat(\n",
    "    [df[\"Most annoying about job search: Finding job I\\'m qualified for\"],\n",
    "     df[\"Most annoying about job search: Finding time\"],\n",
    "     df[\"Most annoying about job search: Interesting companies rarely respond\"],\n",
    "     df[\"Most annoying about job search: Taking time off work to interview\"],\n",
    "     df[\"Most annoying about job search: The Interview\"],\n",
    "     df[\"Most annoying about job search: Writing and updating CV\"]],\n",
    "    na_rep=\"\", sep=\",\")\n",
    "\n",
    "df = df.drop([\"Most annoying about job search: Finding interesting job\",\n",
    "    \"Most annoying about job search: Finding job I\\'m qualified for\",\n",
    "    \"Most annoying about job search: Finding time\",\n",
    "    \"Most annoying about job search: Interesting companies rarely respond\",\n",
    "    \"Most annoying about job search: Taking time off work to interview\",\n",
    "    \"Most annoying about job search: The Interview\",\n",
    "    \"Most annoying about job search: Writing and updating CV\"], axis=1)"
   ]
  },
  {
   "cell_type": "code",
   "execution_count": 6,
   "metadata": {
    "collapsed": true
   },
   "outputs": [],
   "source": [
    "df[\"JobOpportunity\"] = df[\"Most important aspect of new job opportunity: Advancement\"].str.cat(\n",
    "[df[\"Most important aspect of new job opportunity: Building something that matters\"],\n",
    "df[\"Most important aspect of new job opportunity: Company culture\"],\n",
    "df[\"Most important aspect of new job opportunity: Company reputation\"],\n",
    "df[\"Most important aspect of new job opportunity: Company size\"],\n",
    "df[\"Most important aspect of new job opportunity: Company stage\"],\n",
    "df[\"Most important aspect of new job opportunity: Equity\"],\n",
    "df[\"Most important aspect of new job opportunity: Flexible work options\"],\n",
    "df[\"Most important aspect of new job opportunity: Health insurance\"],\n",
    "df[\"Most important aspect of new job opportunity: Important decisions\"],\n",
    "df[\"Most important aspect of new job opportunity: Industry\"],\n",
    "df[\"Most important aspect of new job opportunity: Job title\"],\n",
    "df[\"Most important aspect of new job opportunity: Office location\"],\n",
    "df[\"Most important aspect of new job opportunity: Quality of colleagues\"],\n",
    "df[\"Most important aspect of new job opportunity: Remote working\"],\n",
    "df[\"Most important aspect of new job opportunity: Salary\"],\n",
    "df[\"Most important aspect of new job opportunity: Tech stack\"],\n",
    "df[\"Most important aspect of new job opportunity: Work - Life balance\"]], na_rep=\"\", sep=\",\")\n",
    "\n",
    "df = df.drop([\"Most important aspect of new job opportunity: Advancement\",\n",
    "\"Most important aspect of new job opportunity: Building something that matters\",\n",
    "\"Most important aspect of new job opportunity: Company culture\",\n",
    "\"Most important aspect of new job opportunity: Company reputation\",\n",
    "\"Most important aspect of new job opportunity: Company size\",\n",
    "\"Most important aspect of new job opportunity: Company stage\",\n",
    "\"Most important aspect of new job opportunity: Equity\",\n",
    "\"Most important aspect of new job opportunity: Flexible work options\",\n",
    "\"Most important aspect of new job opportunity: Health insurance\",\n",
    "\"Most important aspect of new job opportunity: Important decisions\",\n",
    "\"Most important aspect of new job opportunity: Industry\",\n",
    "\"Most important aspect of new job opportunity: Job title\",\n",
    "\"Most important aspect of new job opportunity: Office location\",\n",
    "\"Most important aspect of new job opportunity: Quality of colleagues\",\n",
    "\"Most important aspect of new job opportunity: Remote working\",\n",
    "\"Most important aspect of new job opportunity: Salary\",\n",
    "\"Most important aspect of new job opportunity: Tech stack\",\n",
    "\"Most important aspect of new job opportunity: Work - Life balance\"], axis=1)"
   ]
  },
  {
   "cell_type": "code",
   "execution_count": 7,
   "metadata": {
    "collapsed": true
   },
   "outputs": [],
   "source": [
    "df[\"JobPerception\"] = df[\"Perception of contact form: Email\"].str.cat(\n",
    "[df[\"Perception of contact form: Facebook\"],\n",
    "df[\"Perception of contact form: LinkedIn\"],\n",
    "df[\"Perception of contact form: Phone\"],\n",
    "df[\"Perception of contact form: Stack Overflow Careers\"],\n",
    "df[\"Perception of contact form: Twitter\"],\n",
    "df[\"Perception of contact form: Xing\"]], na_rep=\"\", sep=\",\")\n",
    "\n",
    "df = df.drop([\"Perception of contact form: Email\",\n",
    "\"Perception of contact form: Facebook\",\n",
    "\"Perception of contact form: LinkedIn\",\n",
    "\"Perception of contact form: Phone\",\n",
    "\"Perception of contact form: Stack Overflow Careers\",\n",
    "\"Perception of contact form: Twitter\",\n",
    "\"Perception of contact form: Xing\"], axis=1)"
   ]
  },
  {
   "cell_type": "code",
   "execution_count": 8,
   "metadata": {
    "collapsed": true
   },
   "outputs": [],
   "source": [
    "df[\"AppealingTrait\"] = df[\"Appealing message traits: Benefits & Perks\"].str.cat(\n",
    "    [df[\"Appealing message traits: Code or projects mentioned\"],\n",
    "     df[\"Appealing message traits: Company culture described\"],\n",
    "     df[\"Appealing message traits: Message is personalized\"],\n",
    "    df[\"Appealing message traits: Salary information\"],\n",
    "    df[\"Appealing message traits: Stack Overflow activity mentioned\"],\n",
    "    df[\"Appealing message traits: Stack Overflow Company Page\"],\n",
    "    df[\"Appealing message traits: Team described\"]], na_rep=\"\", sep=\",\")\n",
    "\n",
    "df = df.drop([\"Appealing message traits: Benefits & Perks\",\n",
    "    \"Appealing message traits: Code or projects mentioned\",\n",
    "    \"Appealing message traits: Company culture described\",\n",
    "    \"Appealing message traits: Message is personalized\",\n",
    "    \"Appealing message traits: Salary information\",\n",
    "    \"Appealing message traits: Stack Overflow activity mentioned\",\n",
    "    \"Appealing message traits: Stack Overflow Company Page\",\n",
    "    \"Appealing message traits: Team described\"], axis=1)"
   ]
  },
  {
   "cell_type": "code",
   "execution_count": 9,
   "metadata": {
    "collapsed": false
   },
   "outputs": [],
   "source": [
    "df[\"JobInfoImportant\"] = df[\"Most urgent info about job opportunity: Benefits\"].str.cat(\n",
    "    [df[\"Most urgent info about job opportunity: Colleagues\"],\n",
    "    df[\"Most urgent info about job opportunity: Company name\"],\n",
    "    df[\"Most urgent info about job opportunity: Job title\"],\n",
    "     df[\"Most urgent info about job opportunity: Office location\"],\n",
    "    df[\"Most urgent info about job opportunity: Product details\"],\n",
    "    df[\"Most urgent info about job opportunity: Salary\"],\n",
    "    df[\"Most urgent info about job opportunity: Tech stack\"]], na_rep=\"\", sep=\",\")\n",
    "\n",
    "df = df.drop([\"Most urgent info about job opportunity: Benefits\",\n",
    "    \"Most urgent info about job opportunity: Colleagues\",\n",
    "    \"Most urgent info about job opportunity: Company name\",\n",
    "    \"Most urgent info about job opportunity: Job title\",\n",
    "    \"Most urgent info about job opportunity: Office location\",\n",
    "    \"Most urgent info about job opportunity: Product details\",\n",
    "    \"Most urgent info about job opportunity: Salary\",\n",
    "    \"Most urgent info about job opportunity: Tech stack\"], axis=1)"
   ]
  },
  {
   "cell_type": "code",
   "execution_count": 10,
   "metadata": {
    "collapsed": true
   },
   "outputs": [],
   "source": [
    "df[\"ImproveRecruiting\"] = df[\"How can companies improve interview process: Better preparation\"].str.cat(\n",
    "    [df[\"How can companies improve interview process: Fewer brainteasers\"],\n",
    "    df[\"How can companies improve interview process: Flexible interview schedule\"],\n",
    "    df[\"How can companies improve interview process: Gimme coffee\"],\n",
    "    df[\"How can companies improve interview process: Introduce me to boss\"],\n",
    "    df[\"How can companies improve interview process: Introduce me to team\"],\n",
    "    df[\"How can companies improve interview process: More live code\"],\n",
    "    df[\"How can companies improve interview process: Remote interviews\"],\n",
    "    df[\"How can companies improve interview process: Show me workplace\"]], na_rep=\"\", sep=\",\")\n",
    "\n",
    "df = df.drop([\"How can companies improve interview process: Better preparation\",\n",
    "    \"How can companies improve interview process: Fewer brainteasers\",\n",
    "    \"How can companies improve interview process: Flexible interview schedule\",\n",
    "    \"How can companies improve interview process: Gimme coffee\",\n",
    "    \"How can companies improve interview process: Introduce me to boss\",\n",
    "    \"How can companies improve interview process: Introduce me to team\",\n",
    "    \"How can companies improve interview process: More live code\",\n",
    "    \"How can companies improve interview process: Remote interviews\",\n",
    "    \"How can companies improve interview process: Show me workplace\"], axis=1)"
   ]
  },
  {
   "cell_type": "code",
   "execution_count": 11,
   "metadata": {
    "collapsed": true
   },
   "outputs": [],
   "source": [
    "df[\"StackOverflowCareers\"] = df[\"Why try Stack Overflow Careers: Jobs are on Stack Overflow\"].str.cat(\n",
    "    [df[\"Why try Stack Overflow Careers: Jobs site for programmers\"],\n",
    "    df[\"Why try Stack Overflow Careers: No spam\"],\n",
    "    df[\"Why try Stack Overflow Careers: Other\"],\n",
    "    df[\"Why try Stack Overflow Careers: Selection of revelant jobs\"],\n",
    "    df[\"Why try Stack Overflow Careers: Showcase Stack Overflow activity\"]], na_rep=\"\", sep=\",\")\n",
    "\n",
    "df = df.drop([\"Why try Stack Overflow Careers: Jobs are on Stack Overflow\",\n",
    "    \"Why try Stack Overflow Careers: Jobs site for programmers\",\n",
    "    \"Why try Stack Overflow Careers: No spam\",\n",
    "    \"Why try Stack Overflow Careers: Other\",\n",
    "    \"Why try Stack Overflow Careers: Selection of revelant jobs\",\n",
    "    \"Why try Stack Overflow Careers: Showcase Stack Overflow activity\"], axis=1)"
   ]
  },
  {
   "cell_type": "code",
   "execution_count": 12,
   "metadata": {
    "collapsed": true
   },
   "outputs": [],
   "source": [
    "df[\"VersionControl\"] = df[\"Source control used: Bitkeeper\"].str.cat(\n",
    "    [df[\"Source control used: CVS\"], df[\"Source control used: DCVS\"], df[\"Source control used: Git\"],\n",
    "    df[\"Source control used: I don\\'t use source control\"], df[\"Source control used: Legacy / Custom\"],\n",
    "    df[\"Source control used: Mercurial\"], df[\"Source control used: Perforce\"], df[\"Source control used: SVN\"],\n",
    "    df[\"Source control used: TFS\"], df[\"Source control used: write-in\"]], na_rep=\"\", sep=\",\")\n",
    "\n",
    "df = df.drop([\"Source control used: Bitkeeper\",\n",
    "    \"Source control used: CVS\", \"Source control used: DCVS\", \"Source control used: Git\",\n",
    "    \"Source control used: I don\\'t use source control\", \"Source control used: Legacy / Custom\",\n",
    "    \"Source control used: Mercurial\", \"Source control used: Perforce\", \"Source control used: SVN\",\n",
    "    \"Source control used: TFS\", \"Source control used: write-in\"], axis=1)"
   ]
  },
  {
   "cell_type": "code",
   "execution_count": 13,
   "metadata": {
    "collapsed": true
   },
   "outputs": [],
   "source": [
    "df[\"WhyStackOverflow\"] = df[\"Why use Stack Overflow: Can\\'t do job without it\"].str.cat(\n",
    "    [df[\"Why use Stack Overflow: Communicate with others\"],\n",
    "    df[\"Why use Stack Overflow: Demonstrate expertise\"],\n",
    "    df[\"Why use Stack Overflow: Help for job\"],\n",
    "    df[\"Why use Stack Overflow: I don\\'t use Stack Overflow\"],\n",
    "    df[\"Why use Stack Overflow: Love to learn\"],\n",
    "    df[\"Why use Stack Overflow: Maintain online presence\"],\n",
    "    df[\"Why use Stack Overflow: Receive help on personal projects\"],\n",
    "    df[\"Why use Stack Overflow: To give help\"]], na_rep=\"\", sep=\",\")\n",
    "\n",
    "df = df.drop([\"Why use Stack Overflow: Can\\'t do job without it\",\n",
    "    \"Why use Stack Overflow: Communicate with others\",\n",
    "    \"Why use Stack Overflow: Demonstrate expertise\",\n",
    "    \"Why use Stack Overflow: Help for job\",\n",
    "    \"Why use Stack Overflow: I don\\'t use Stack Overflow\",\n",
    "    \"Why use Stack Overflow: Love to learn\",\n",
    "    \"Why use Stack Overflow: Maintain online presence\",\n",
    "    \"Why use Stack Overflow: Receive help on personal projects\",\n",
    "    \"Why use Stack Overflow: To give help\"], axis=1)"
   ]
  },
  {
   "cell_type": "code",
   "execution_count": 14,
   "metadata": {
    "collapsed": false
   },
   "outputs": [],
   "source": [
    "df[\"WhyAnswerStackOverflow\"] = df[\"Why answer: Demonstrate expertise\"].str.cat(\n",
    "    [df[\"Why answer: Help a programmer in need\"], df[\"Why answer: Help future programmers\"],\n",
    "    df[\"Why answer: I don\\'t answer and I don\\'t want to\"], df[\"Why answer: I don\\'t answer but I want to\"],\n",
    "    df[\"Why answer: No idea\"], df[\"Why answer: Self promotion\"], df[\"Why answer: Sense of responsibility to developers\"]],\n",
    "    na_rep=\"\", sep=\",\")\n",
    "\n",
    "df = df.drop([\"Why answer: Demonstrate expertise\",\n",
    "    \"Why answer: Help a programmer in need\", \"Why answer: Help future programmers\",\n",
    "    \"Why answer: No idea\", \"Why answer: Self promotion\", \"Why answer: Sense of responsibility to developers\",\n",
    "    \"Why answer: I don\\'t answer and I don\\'t want to\", \"Why answer: I don\\'t answer but I want to\"], axis=1)"
   ]
  },
  {
   "cell_type": "code",
   "execution_count": null,
   "metadata": {
    "collapsed": true
   },
   "outputs": [],
   "source": []
  },
  {
   "cell_type": "code",
   "execution_count": 15,
   "metadata": {
    "collapsed": false,
    "deletable": true,
    "editable": true
   },
   "outputs": [],
   "source": [
    "df = df.drop(0)"
   ]
  },
  {
   "cell_type": "code",
   "execution_count": 16,
   "metadata": {
    "collapsed": true,
    "deletable": true,
    "editable": true
   },
   "outputs": [],
   "source": [
    "df.to_csv(\"2015_survey_cleaned.csv\", index=False)"
   ]
  }
 ],
 "metadata": {
  "kernelspec": {
   "display_name": "Python 3",
   "language": "python",
   "name": "python3"
  },
  "language_info": {
   "codemirror_mode": {
    "name": "ipython",
    "version": 3
   },
   "file_extension": ".py",
   "mimetype": "text/x-python",
   "name": "python",
   "nbconvert_exporter": "python",
   "pygments_lexer": "ipython3",
   "version": "3.6.0"
  }
 },
 "nbformat": 4,
 "nbformat_minor": 2
}
