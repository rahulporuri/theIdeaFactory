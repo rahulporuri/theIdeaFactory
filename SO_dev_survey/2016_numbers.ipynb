{
 "cells": [
  {
   "cell_type": "code",
   "execution_count": 1,
   "metadata": {
    "collapsed": false,
    "deletable": true,
    "editable": true
   },
   "outputs": [],
   "source": [
    "import pandas as pd\n",
    "\n",
    "DTYPES ={\"employment_status\":\"category\", \"remote\": \"category\", \"desktop_os\": \"category\",\n",
    "         \"company_size_range\": \"category\", \"collector\": \"category\", \"country\": \"category\",\n",
    "         \"age_range\": \"category\", \"gender\": \"category\", \"experience_range\": \"category\",\n",
    "         \"salary_range\": \"category\", \"aliens\": \"category\"}\n",
    "\n",
    "filename = \"/Users/rahulporuri/Downloads/SO-survey-data/2016_Stack_Overflow_Survey_Responses.csv\"\n",
    "\n",
    "df = pd.read_table(filename, dtype=DTYPES, sep=\",\")"
   ]
  },
  {
   "cell_type": "code",
   "execution_count": 2,
   "metadata": {
    "collapsed": true,
    "deletable": true,
    "editable": true
   },
   "outputs": [],
   "source": [
    "indian_devs = df[df.loc[:, \"country\"] == \"India\"]"
   ]
  },
  {
   "cell_type": "code",
   "execution_count": 3,
   "metadata": {
    "collapsed": false,
    "deletable": true,
    "editable": true
   },
   "outputs": [
    {
     "name": "stdout",
     "output_type": "stream",
     "text": [
      "(56030, 66)\n",
      "(4193, 66)\n"
     ]
    }
   ],
   "source": [
    "print(df.shape)\n",
    "print(indian_devs.shape)"
   ]
  },
  {
   "cell_type": "code",
   "execution_count": 4,
   "metadata": {
    "collapsed": false,
    "deletable": true,
    "editable": true
   },
   "outputs": [
    {
     "name": "stdout",
     "output_type": "stream",
     "text": [
      "                              IN        US\n",
      "Employed full-time      0.770446  0.677606\n",
      "Employed part-time      0.021625  0.035340\n",
      "Freelance / Contractor  0.033269  0.070780\n",
      "I'm a student           0.111450  0.126452\n",
      "Other (please specify)  0.008040  0.018376\n",
      "Prefer not to disclose  0.011090  0.007806\n",
      "Retired                 0.000832  0.002380\n",
      "Self-employed           0.031328  0.042803\n",
      "Unemployed              0.011921  0.018457\n"
     ]
    }
   ],
   "source": [
    "remote_devs = pd.concat([indian_devs[\"employment_status\"].value_counts()/indian_devs[\"employment_status\"].count(),\n",
    "                         df[\"employment_status\"].value_counts()/df[\"employment_status\"].count()], axis=1)\n",
    "remote_devs.columns = [\"IN\", \"US\"]\n",
    "print(remote_devs)"
   ]
  },
  {
   "cell_type": "code",
   "execution_count": 5,
   "metadata": {
    "collapsed": false,
    "deletable": true,
    "editable": true
   },
   "outputs": [
    {
     "name": "stdout",
     "output_type": "stream",
     "text": [
      "                              IN        US\n",
      "I rarely work remotely  0.448070  0.478887\n",
      "Never                   0.277895  0.222992\n",
      "Part-time remote        0.175439  0.176679\n",
      "Full-time remote        0.098596  0.121442\n"
     ]
    }
   ],
   "source": [
    "remote_devs = pd.concat([indian_devs[\"remote\"].value_counts()/indian_devs[\"remote\"].count(),\n",
    "                         df[\"remote\"].value_counts()/df[\"remote\"].count()], axis=1)\n",
    "remote_devs.columns = [\"IN\", \"US\"]\n",
    "print(remote_devs)"
   ]
  },
  {
   "cell_type": "code",
   "execution_count": 6,
   "metadata": {
    "collapsed": false,
    "deletable": true,
    "editable": true
   },
   "outputs": [
    {
     "name": "stdout",
     "output_type": "stream",
     "text": [
      "                     IN        US\n",
      "Debian         0.008766  0.019246\n",
      "Fedora         0.011897  0.013455\n",
      "Mac OS X       0.140576  0.261566\n",
      "Mint           0.010958  0.017093\n",
      "Other Linux    0.027239  0.044133\n",
      "Ubuntu         0.229493  0.122990\n",
      "Windows 10     0.132123  0.207983\n",
      "Windows 7      0.296807  0.224731\n",
      "Windows 8      0.134314  0.084089\n",
      "Windows Vista  0.000313  0.001055\n",
      "Windows XP     0.007514  0.003660\n"
     ]
    }
   ],
   "source": [
    "remote_devs = pd.concat([indian_devs[\"desktop_os\"].value_counts()/indian_devs[\"desktop_os\"].count(),\n",
    "                         df[\"desktop_os\"].value_counts()/df[\"desktop_os\"].count()], axis=1)\n",
    "remote_devs.columns = [\"IN\", \"US\"]\n",
    "print(remote_devs)"
   ]
  },
  {
   "cell_type": "code",
   "execution_count": 7,
   "metadata": {
    "collapsed": false,
    "deletable": true,
    "editable": true
   },
   "outputs": [
    {
     "name": "stdout",
     "output_type": "stream",
     "text": [
      "                                  IN        US\n",
      "1,000-4,999 employees       0.088308  0.090053\n",
      "1-4 employees               0.054398  0.092733\n",
      "10,000+ employees           0.160367  0.117875\n",
      "10-19 employees             0.109149  0.099469\n",
      "100-499 employees           0.169551  0.170315\n",
      "20-99 employees             0.226069  0.215767\n",
      "5,000-9,999 employees       0.039915  0.034333\n",
      "5-9 employees               0.066408  0.076856\n",
      "500-999 employees           0.055104  0.057698\n",
      "I am not part of a company  0.013070  0.025018\n",
      "I am not sure               0.015895  0.018106\n",
      "Other (please specify)      0.001766  0.001778\n"
     ]
    }
   ],
   "source": [
    "remote_devs = pd.concat([indian_devs[\"company_size_range\"].value_counts()/indian_devs[\"company_size_range\"].count(),\n",
    "                         df[\"company_size_range\"].value_counts()/df[\"company_size_range\"].count()], axis=1)\n",
    "remote_devs.columns = [\"IN\", \"US\"]\n",
    "print(remote_devs)"
   ]
  },
  {
   "cell_type": "code",
   "execution_count": 8,
   "metadata": {
    "collapsed": false,
    "deletable": true,
    "editable": true
   },
   "outputs": [
    {
     "name": "stdout",
     "output_type": "stream",
     "text": [
      "                              IN        US\n",
      "Yes                     0.574671  0.523456\n",
      "No                      0.378537  0.350631\n",
      "Other (please specify)  0.046792  0.125913\n"
     ]
    }
   ],
   "source": [
    "remote_devs = pd.concat([indian_devs[\"aliens\"].value_counts()/indian_devs[\"aliens\"].count(),\n",
    "                         df[\"aliens\"].value_counts()/df[\"aliens\"].count()], axis=1)\n",
    "remote_devs.columns = [\"IN\", \"US\"]\n",
    "print(remote_devs)"
   ]
  },
  {
   "cell_type": "code",
   "execution_count": 9,
   "metadata": {
    "collapsed": false,
    "deletable": true,
    "editable": true
   },
   "outputs": [
    {
     "name": "stdout",
     "output_type": "stream",
     "text": [
      "                              IN        US\n",
      "$10,000 - $20,000       0.215064  0.107912\n",
      "$100,000 - $110,000     0.002885  0.035841\n",
      "$110,000 - $120,000     0.003846  0.023547\n",
      "$120,000 - $130,000     0.001923  0.019882\n",
      "$130,000 - $140,000     0.002244  0.013183\n",
      "$140,000 - $150,000     0.000641  0.012337\n",
      "$150,000 - $160,000     0.001282  0.010234\n",
      "$160,000 - $170,000     0.000321  0.006028\n",
      "$170,000 - $180,000     0.000321  0.004467\n",
      "$180,000 - $190,000     0.001282  0.002949\n",
      "$190,000 - $200,000     0.000641  0.002537\n",
      "$20,000 - $30,000       0.068910  0.079725\n",
      "$30,000 - $40,000       0.031090  0.074348\n",
      "$40,000 - $50,000       0.017308  0.071356\n",
      "$50,000 - $60,000       0.008654  0.068038\n",
      "$60,000 - $70,000       0.008013  0.061209\n",
      "$70,000 - $80,000       0.004808  0.054205\n",
      "$80,000 - $90,000       0.003526  0.039765\n",
      "$90,000 - $100,000      0.005449  0.036513\n",
      "Less than $10,000       0.543269  0.166649\n",
      "More than $200,000      0.002885  0.014332\n",
      "Other (please specify)  0.007051  0.005486\n",
      "Rather not say          0.034295  0.048698\n",
      "Unemployed              0.034295  0.040762\n"
     ]
    }
   ],
   "source": [
    "remote_devs = pd.concat([indian_devs[\"salary_range\"].value_counts()/indian_devs[\"salary_range\"].count(),\n",
    "                         df[\"salary_range\"].value_counts()/df[\"salary_range\"].count()], axis=1)\n",
    "remote_devs.columns = [\"IN\", \"US\"]\n",
    "print(remote_devs)"
   ]
  },
  {
   "cell_type": "code",
   "execution_count": 10,
   "metadata": {
    "collapsed": false,
    "deletable": true,
    "editable": true
   },
   "outputs": [
    {
     "name": "stdout",
     "output_type": "stream",
     "text": [
      "                              IN        US\n",
      "20-24                   0.418043  0.234267\n",
      "25-29                   0.383106  0.281766\n",
      "30-34                   0.099306  0.179769\n",
      "35-39                   0.029433  0.101513\n",
      "40-49                   0.011725  0.088018\n",
      "50-59                   0.001436  0.029429\n",
      "< 20                    0.050012  0.070648\n",
      "> 60                    0.002154  0.007573\n",
      "Prefer not to disclose  0.004786  0.007016\n"
     ]
    }
   ],
   "source": [
    "remote_devs = pd.concat([indian_devs[\"age_range\"].value_counts()/indian_devs[\"age_range\"].count(),\n",
    "                         df[\"age_range\"].value_counts()/df[\"age_range\"].count()], axis=1)\n",
    "remote_devs.columns = [\"IN\", \"US\"]\n",
    "print(remote_devs)"
   ]
  },
  {
   "cell_type": "code",
   "execution_count": 11,
   "metadata": {
    "collapsed": false,
    "deletable": true,
    "editable": true
   },
   "outputs": [
    {
     "name": "stdout",
     "output_type": "stream",
     "text": [
      "                        IN        US\n",
      "1 - 2 years       0.238215  0.123566\n",
      "11+ years         0.050488  0.264883\n",
      "2 - 5 years       0.401674  0.321022\n",
      "6 - 10 years      0.131660  0.232330\n",
      "Less than 1 year  0.177964  0.058199\n"
     ]
    }
   ],
   "source": [
    "remote_devs = pd.concat([indian_devs[\"experience_range\"].value_counts()/indian_devs[\"experience_range\"].count(),\n",
    "                         df[\"experience_range\"].value_counts()/df[\"experience_range\"].count()], axis=1)\n",
    "remote_devs.columns = [\"IN\", \"US\"]\n",
    "print(remote_devs)"
   ]
  },
  {
   "cell_type": "code",
   "execution_count": 12,
   "metadata": {
    "collapsed": false,
    "deletable": true,
    "editable": true
   },
   "outputs": [
    {
     "name": "stdout",
     "output_type": "stream",
     "text": [
      "                              IN        US\n",
      "Male                    0.900769  0.924477\n",
      "Female                  0.087218  0.057604\n",
      "Prefer not to disclose  0.010812  0.012989\n",
      "Other                   0.001201  0.004929\n"
     ]
    }
   ],
   "source": [
    "remote_devs = pd.concat([indian_devs[\"gender\"].value_counts()/indian_devs[\"gender\"].count(),\n",
    "                         df[\"gender\"].value_counts()/df[\"gender\"].count()], axis=1)\n",
    "remote_devs.columns = [\"IN\", \"US\"]\n",
    "print(remote_devs)"
   ]
  },
  {
   "cell_type": "code",
   "execution_count": 13,
   "metadata": {
    "collapsed": false,
    "deletable": true,
    "editable": true
   },
   "outputs": [
    {
     "name": "stdout",
     "output_type": "stream",
     "text": [
      "                                IN        US\n",
      "Facebook                  0.046506  0.175103\n",
      "House ads                 0.409492  0.154078\n",
      "Meta Stack Overflow Post  0.516814  0.502891\n",
      "Miscellaneous             0.000238  0.001928\n",
      "Reddit                    0.012640  0.111119\n",
      "Twitter                   0.014310  0.054881\n"
     ]
    }
   ],
   "source": [
    "remote_devs = pd.concat([indian_devs[\"collector\"].value_counts()/indian_devs[\"collector\"].count(),\n",
    "                         df[\"collector\"].value_counts()/df[\"collector\"].count()], axis=1)\n",
    "remote_devs.columns = [\"IN\", \"US\"]\n",
    "print(remote_devs)"
   ]
  },
  {
   "cell_type": "code",
   "execution_count": 14,
   "metadata": {
    "collapsed": false,
    "deletable": true,
    "editable": true
   },
   "outputs": [
    {
     "name": "stdout",
     "output_type": "stream",
     "text": [
      "United States          13539\n",
      "United Kingdom          4573\n",
      "India                   4193\n",
      "Germany                 3883\n",
      "Canada                  2024\n",
      "Poland                  1971\n",
      "France                  1626\n",
      "Russian Federation      1419\n",
      "Sweden                  1328\n",
      "Netherlands             1188\n",
      "Italy                   1137\n",
      "Australia               1117\n",
      "Spain                   1026\n",
      "Brazil                  1015\n",
      "Romania                  942\n",
      "Ukraine                  802\n",
      "Denmark                  606\n",
      "Switzerland              574\n",
      "Belgium                  543\n",
      "Portugal                 496\n",
      "Austria                  482\n",
      "South Africa             479\n",
      "Turkey                   445\n",
      "Mexico                   444\n",
      "Finland                  440\n",
      "Israel                   439\n",
      "Ireland {Republic}       427\n",
      "Greece                   393\n",
      "Iran                     372\n",
      "Czech Republic           372\n",
      "                       ...  \n",
      "Antigua & Deps             2\n",
      "Malawi                     2\n",
      "Vatican City               2\n",
      "Zambia                     2\n",
      "St Kitts & Nevis           1\n",
      "Somalia                    1\n",
      "Sierra Leone               1\n",
      "Tajikistan                 1\n",
      "Seychelles                 1\n",
      "Antarctica                 1\n",
      "Togo                       1\n",
      "Vanuatu                    1\n",
      "Sao Tome & Principe        1\n",
      "Grenada                    1\n",
      "San Marino                 1\n",
      "Rwanda                     1\n",
      "Palau                      1\n",
      "Oman                       1\n",
      "Burkina                    1\n",
      "Burundi                    1\n",
      "Guinea                     1\n",
      "Central African Rep        1\n",
      "Chad                       1\n",
      "Mozambique                 1\n",
      "Monaco                     1\n",
      "Mauritania                 1\n",
      "Dominica                   1\n",
      "East Timor                 1\n",
      "Gabon                      1\n",
      "Niger                      1\n",
      "Name: country, dtype: int64\n"
     ]
    }
   ],
   "source": [
    "print(df[\"country\"].value_counts())"
   ]
  }
 ],
 "metadata": {
  "kernelspec": {
   "display_name": "Python 3",
   "language": "python",
   "name": "python3"
  },
  "language_info": {
   "codemirror_mode": {
    "name": "ipython",
    "version": 3
   },
   "file_extension": ".py",
   "mimetype": "text/x-python",
   "name": "python",
   "nbconvert_exporter": "python",
   "pygments_lexer": "ipython3",
   "version": "3.6.0"
  }
 },
 "nbformat": 4,
 "nbformat_minor": 2
}
