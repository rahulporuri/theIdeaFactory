{
 "cells": [
  {
   "cell_type": "code",
   "execution_count": 1,
   "metadata": {
    "collapsed": true,
    "deletable": true,
    "editable": true
   },
   "outputs": [],
   "source": [
    "import pandas as pd\n",
    "\n",
    "filename = \"/Users/rahulporuri/Downloads/SO-survey-data/2013 Stack Overflow Survey Responses.csv\"\n",
    "df = pd.read_table(filename, sep=\",\", engine=\"python\")"
   ]
  },
  {
   "cell_type": "code",
   "execution_count": 2,
   "metadata": {
    "collapsed": false,
    "deletable": true,
    "editable": true
   },
   "outputs": [],
   "source": [
    "col_name = \"What other departments / roles do you interact with regularly?\"\n",
    "\n",
    "df[\"ColleagueInteraction\"] = df[col_name].str.cat(\n",
    "    [df[\"Unnamed: 10\"], df[\"Unnamed: 11\"], df[\"Unnamed: 12\"], \n",
    "     df[\"Unnamed: 13\"], df[\"Unnamed: 14\"], df[\"Unnamed: 15\"],\n",
    "     df[\"Unnamed: 16\"], df[\"Unnamed: 17\"], df[\"Unnamed: 18\"]\n",
    "    ], na_rep=\"\", sep=\"-\")\n",
    "\n",
    "df = df.drop([col_name, \"Unnamed: 10\", \"Unnamed: 11\", \"Unnamed: 12\",\n",
    "              \"Unnamed: 13\", \"Unnamed: 14\", \"Unnamed: 15\", \"Unnamed: 16\",\n",
    "              \"Unnamed: 17\", \"Unnamed: 18\"], axis=1)"
   ]
  },
  {
   "cell_type": "code",
   "execution_count": 3,
   "metadata": {
    "collapsed": true,
    "deletable": true,
    "editable": true
   },
   "outputs": [],
   "source": [
    "col_name = \"If your company has a native mobile app, what platforms do you support?\"\n",
    "\n",
    "df[\"PlatformSupport\"] = df[col_name].str.cat(\n",
    "    [df[\"Unnamed: 20\"], df[\"Unnamed: 21\"], df[\"Unnamed: 22\"],\n",
    "     df[\"Unnamed: 23\"], df[\"Unnamed: 24\"], df[\"Unnamed: 25\"]\n",
    "    ], na_rep=\"\", sep=\"-\")\n",
    "\n",
    "df = df.drop([col_name, \"Unnamed: 20\", \"Unnamed: 21\", \"Unnamed: 22\",\n",
    "              \"Unnamed: 23\", \"Unnamed: 24\", \"Unnamed: 25\"], axis=1)"
   ]
  },
  {
   "cell_type": "code",
   "execution_count": 4,
   "metadata": {
    "collapsed": true,
    "deletable": true,
    "editable": true
   },
   "outputs": [],
   "source": [
    "col_name = \"If you make a software product, how does your company make money? (You can choose more than one)\"\n",
    "\n",
    "df[\"ProductRevenue\"] = df[col_name].str.cat(\n",
    "    [df[\"Unnamed: 27\"], df[\"Unnamed: 28\"], df[\"Unnamed: 29\"], df[\"Unnamed: 30\"],\n",
    "     df[\"Unnamed: 31\"], df[\"Unnamed: 32\"], df[\"Unnamed: 33\"]\n",
    "    ], na_rep=\"\", sep=\"-\")\n",
    "\n",
    "df = df.drop([col_name, \"Unnamed: 27\", \"Unnamed: 28\", \"Unnamed: 29\",\n",
    "              \"Unnamed: 30\", \"Unnamed: 31\", \"Unnamed: 32\",\n",
    "              \"Unnamed: 33\"] , axis=1)"
   ]
  },
  {
   "cell_type": "code",
   "execution_count": 5,
   "metadata": {
    "collapsed": false,
    "deletable": true,
    "editable": true
   },
   "outputs": [],
   "source": [
    "col_name = \"In an average week, how do you spend your time?\"\n",
    "\n",
    "df[\"WorkWeek\"] = df[col_name].str.cat(\n",
    "    [df[\"Unnamed: 35\"], df[\"Unnamed: 36\"], df[\"Unnamed: 37\"], df[\"Unnamed: 38\"],\n",
    "     df[\"Unnamed: 39\"], df[\"Unnamed: 40\"], df[\"Unnamed: 41\"]\n",
    "    ], na_rep=\"\", sep=\"-\")\n",
    "\n",
    "df = df.drop([col_name, \"Unnamed: 35\", \"Unnamed: 36\", \"Unnamed: 37\",\n",
    "              \"Unnamed: 38\", \"Unnamed: 39\", \"Unnamed: 40\",\n",
    "              \"Unnamed: 41\"], axis=1)"
   ]
  },
  {
   "cell_type": "code",
   "execution_count": 6,
   "metadata": {
    "collapsed": true,
    "deletable": true,
    "editable": true
   },
   "outputs": [],
   "source": [
    "col_name = \"What is your involvement in purchasing products or services for the company you work for? (You can choose more than one)\"\n",
    "\n",
    "df[\"PurchasingInvolvement\"] = df[col_name].str.cat(\n",
    "    [df[\"Unnamed: 43\"], df[\"Unnamed: 44\"], df[\"Unnamed: 45\"],\n",
    "     df[\"Unnamed: 46\"], df[\"Unnamed: 47\"], df[\"Unnamed: 48\"]\n",
    "    ], na_rep=\"\", sep=\"-\")\n",
    "\n",
    "df = df.drop([col_name, \"Unnamed: 43\", \"Unnamed: 44\", \"Unnamed: 45\",\n",
    "              \"Unnamed: 46\", \"Unnamed: 47\", \"Unnamed: 48\"], axis=1)"
   ]
  },
  {
   "cell_type": "code",
   "execution_count": 7,
   "metadata": {
    "collapsed": true,
    "deletable": true,
    "editable": true
   },
   "outputs": [],
   "source": [
    "col_name = \"What types of purchases are you involved in?\"\n",
    "\n",
    "df[\"PurchasingInvolvementType\"] = df[col_name].str.cat(\n",
    "    [df[\"Unnamed: 50\"], df[\"Unnamed: 51\"], df[\"Unnamed: 52\"],\n",
    "     df[\"Unnamed: 53\"], df[\"Unnamed: 54\"]\n",
    "    ], na_rep=\"\", sep=\"-\")\n",
    "\n",
    "df = df.drop([col_name, \"Unnamed: 50\", \"Unnamed: 51\",\"Unnamed: 52\",\n",
    "              \"Unnamed: 53\", \"Unnamed: 54\"], axis=1)"
   ]
  },
  {
   "cell_type": "code",
   "execution_count": 8,
   "metadata": {
    "collapsed": true,
    "deletable": true,
    "editable": true
   },
   "outputs": [],
   "source": [
    "col_name = \"Which of the following languages or technologies have you used significantly in the past year?\"\n",
    "\n",
    "df[\"LanguageExperience\"] = df[col_name].str.cat(\n",
    "    [df[\"Unnamed: 57\"], df[\"Unnamed: 58\"], df[\"Unnamed: 59\"], df[\"Unnamed: 60\"],\n",
    "     df[\"Unnamed: 61\"], df[\"Unnamed: 62\"], df[\"Unnamed: 63\"], df[\"Unnamed: 64\"],\n",
    "     df[\"Unnamed: 65\"], df[\"Unnamed: 66\"], df[\"Unnamed: 67\"], df[\"Unnamed: 68\"],\n",
    "     df[\"Unnamed: 69\"]\n",
    "    ], na_rep=\"\", sep=\"-\")\n",
    "\n",
    "df = df.drop([col_name, \"Unnamed: 57\", \"Unnamed: 58\", \"Unnamed: 59\",\n",
    "              \"Unnamed: 60\", \"Unnamed: 61\", \"Unnamed: 62\", \"Unnamed: 63\",\n",
    "              \"Unnamed: 64\", \"Unnamed: 65\", \"Unnamed: 66\", \"Unnamed: 67\",\n",
    "              \"Unnamed: 68\", \"Unnamed: 69\"], axis=1)"
   ]
  },
  {
   "cell_type": "code",
   "execution_count": 9,
   "metadata": {
    "collapsed": false,
    "deletable": true,
    "editable": true
   },
   "outputs": [],
   "source": [
    "col_name = \"Which technologies are you excited about?\"\n",
    "\n",
    "df[\"LanguageInterest\"] = df[col_name].str.cat(\n",
    "    [df[\"Unnamed: 71\"], df[\"Unnamed: 72\"], df[\"Unnamed: 73\"],\n",
    "     df[\"Unnamed: 74\"], df[\"Unnamed: 75\"], df[\"Unnamed: 76\"],\n",
    "     df[\"Unnamed: 77\"], df[\"Unnamed: 78\"], df[\"Unnamed: 79\"], df[\"Unnamed: 80\"]\n",
    "    ], na_rep=\"\", sep=\"-\")\n",
    "\n",
    "df = df.drop([col_name, \"Unnamed: 71\", \"Unnamed: 72\", \"Unnamed: 73\",\n",
    "              \"Unnamed: 74\", \"Unnamed: 75\", \"Unnamed: 76\", \"Unnamed: 77\",\n",
    "              \"Unnamed: 78\", \"Unnamed: 79\", \"Unnamed: 80\"], axis=1)"
   ]
  },
  {
   "cell_type": "code",
   "execution_count": 10,
   "metadata": {
    "collapsed": false,
    "deletable": true,
    "editable": true
   },
   "outputs": [],
   "source": [
    "col_name = \"Please rate how important each of the following characteristics of a company/job offer are to you.    Please select a MAXIMUM of 3 items as \\\"Non-Negotiables\\\" to help us identify the most important items, those where you would never consider a company if they didn\\'t meet them.\"\n",
    "\n",
    "df[\"JobExpectations\"] = df[col_name].str.cat(\n",
    "    [df[\"Unnamed: 83\"], df[\"Unnamed: 84\"], df[\"Unnamed: 85\"],\n",
    "     df[\"Unnamed: 86\"], df[\"Unnamed: 87\"], df[\"Unnamed: 88\"],\n",
    "     df[\"Unnamed: 89\"], df[\"Unnamed: 90\"], df[\"Unnamed: 91\"],\n",
    "     df[\"Unnamed: 92\"], df[\"Unnamed: 93\"], df[\"Unnamed: 94\"],\n",
    "     df[\"Unnamed: 95\"], df[\"Unnamed: 96\"], df[\"Unnamed: 97\"]\n",
    "    ], na_rep=\"\", sep=\"-\")\n",
    "\n",
    "df = df.drop([col_name, \"Unnamed: 83\", \"Unnamed: 84\", \"Unnamed: 85\",\n",
    "              \"Unnamed: 86\", \"Unnamed: 87\", \"Unnamed: 88\",\n",
    "              \"Unnamed: 89\", \"Unnamed: 90\", \"Unnamed: 91\",\n",
    "              \"Unnamed: 92\", \"Unnamed: 93\", \"Unnamed: 94\",\n",
    "              \"Unnamed: 95\", \"Unnamed: 96\", \"Unnamed: 97\"], axis=1)"
   ]
  },
  {
   "cell_type": "code",
   "execution_count": 11,
   "metadata": {
    "collapsed": false,
    "deletable": true,
    "editable": true
   },
   "outputs": [],
   "source": [
    "col_name = \"Which technology products do you own? (You can choose more than one)\"\n",
    "\n",
    "df[\"TechProduct\"] = df[col_name].str.cat(\n",
    "    [df[\"Unnamed: 102\"], df[\"Unnamed: 103\"], df[\"Unnamed: 104\"],\n",
    "     df[\"Unnamed: 105\"], df[\"Unnamed: 106\"], df[\"Unnamed: 107\"],\n",
    "     df[\"Unnamed: 108\"], df[\"Unnamed: 109\"], df[\"Unnamed: 110\"],\n",
    "     df[\"Unnamed: 111\"], df[\"Unnamed: 112\"], df[\"Unnamed: 113\"], df[\"Unnamed: 114\"]\n",
    "    ], na_rep=\"\", sep=\"-\")\n",
    "\n",
    "df = df.drop([col_name, \"Unnamed: 102\", \"Unnamed: 103\",\n",
    "              \"Unnamed: 104\", \"Unnamed: 105\", \"Unnamed: 106\",\n",
    "              \"Unnamed: 107\", \"Unnamed: 108\", \"Unnamed: 109\",\n",
    "              \"Unnamed: 110\", \"Unnamed: 111\", \"Unnamed: 112\",\n",
    "              \"Unnamed: 113\", \"Unnamed: 114\"], axis=1)"
   ]
  },
  {
   "cell_type": "code",
   "execution_count": 12,
   "metadata": {
    "collapsed": true,
    "deletable": true,
    "editable": true
   },
   "outputs": [],
   "source": [
    "col_name = \"Please rate the advertising you\\'ve seen on Stack Overflow\"\n",
    "\n",
    "df[\"StackOverflowAds\"] = df[col_name].str.cat(\n",
    "    [df[\"Unnamed: 117\"], df[\"Unnamed: 118\"], df[\"Unnamed: 119\"],\n",
    "     df[\"Unnamed: 120\"], df[\"Unnamed: 121\"]\n",
    "    ], na_rep=\"\", sep=\"-\")\n",
    "\n",
    "df = df.drop([col_name, \"Unnamed: 117\", \"Unnamed: 118\",\n",
    "              \"Unnamed: 119\", \"Unnamed: 120\", \"Unnamed: 121\"\n",
    "             ], axis=1)"
   ]
  },
  {
   "cell_type": "code",
   "execution_count": 13,
   "metadata": {
    "collapsed": true,
    "deletable": true,
    "editable": true
   },
   "outputs": [],
   "source": [
    "col_name = \"How do you use Stack Overflow?\"\n",
    "\n",
    "df[\"StackOverflowUsage\"] = df[col_name].str.cat(\n",
    "    [df[\"Unnamed: 125\"], df[\"Unnamed: 126\"], df[\"Unnamed: 127\"]\n",
    "    ], na_rep=\"\", sep=\"-\")\n",
    "\n",
    "df = df.drop([col_name, \"Unnamed: 125\", \"Unnamed: 126\", \"Unnamed: 127\"\n",
    "             ], axis=1)"
   ]
  },
  {
   "cell_type": "code",
   "execution_count": 14,
   "metadata": {
    "collapsed": true,
    "deletable": true,
    "editable": true
   },
   "outputs": [],
   "source": [
    "df = df.drop(0)"
   ]
  },
  {
   "cell_type": "code",
   "execution_count": 15,
   "metadata": {
    "collapsed": true,
    "deletable": true,
    "editable": true
   },
   "outputs": [],
   "source": [
    "df.to_csv(\"2013_survey_cleaned.csv\", index=False)"
   ]
  }
 ],
 "metadata": {
  "kernelspec": {
   "display_name": "Python 3",
   "language": "python",
   "name": "python3"
  },
  "language_info": {
   "codemirror_mode": {
    "name": "ipython",
    "version": 3
   },
   "file_extension": ".py",
   "mimetype": "text/x-python",
   "name": "python",
   "nbconvert_exporter": "python",
   "pygments_lexer": "ipython3",
   "version": "3.6.0"
  }
 },
 "nbformat": 4,
 "nbformat_minor": 2
}
