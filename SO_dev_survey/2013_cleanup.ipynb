{
 "cells": [
  {
   "cell_type": "code",
   "execution_count": 1,
   "metadata": {
    "collapsed": true,
    "deletable": true,
    "editable": true
   },
   "outputs": [],
   "source": [
    "import pandas as pd\n",
    "df = pd.read_table(\"/Users/rahulporuri/Downloads/SO-survey-data/2013 Stack Overflow Survey Responses.csv\",\n",
    "                   sep=\",\", engine=\"python\")"
   ]
  },
  {
   "cell_type": "code",
   "execution_count": 2,
   "metadata": {
    "collapsed": true
   },
   "outputs": [],
   "source": [
    "df = df.drop(0)"
   ]
  },
  {
   "cell_type": "code",
   "execution_count": 3,
   "metadata": {
    "collapsed": false,
    "deletable": true,
    "editable": true,
    "scrolled": true
   },
   "outputs": [],
   "source": [
    "df[\"ColleagueInteraction\"] = df[\"What other departments / roles do you interact with regularly?\"].str.cat(\n",
    "    [df[\"Unnamed: 10\"], df[\"Unnamed: 11\"], df[\"Unnamed: 12\"], \n",
    "     df[\"Unnamed: 13\"], df[\"Unnamed: 14\"], df[\"Unnamed: 15\"],\n",
    "     df[\"Unnamed: 16\"], df[\"Unnamed: 17\"], df[\"Unnamed: 18\"]],\n",
    "    na_rep=\"\", sep=\",\")"
   ]
  },
  {
   "cell_type": "code",
   "execution_count": 4,
   "metadata": {
    "collapsed": false,
    "deletable": true,
    "editable": true
   },
   "outputs": [],
   "source": [
    "df = df.drop([\"What other departments / roles do you interact with regularly?\",\n",
    "              \"Unnamed: 10\", \"Unnamed: 11\", \"Unnamed: 12\", \"Unnamed: 13\", \n",
    "              \"Unnamed: 14\", \"Unnamed: 15\", \"Unnamed: 16\", \"Unnamed: 17\", \"Unnamed: 18\"] , axis=1)"
   ]
  },
  {
   "cell_type": "code",
   "execution_count": 5,
   "metadata": {
    "collapsed": false,
    "deletable": true,
    "editable": true
   },
   "outputs": [],
   "source": [
    "df[\"PlatformSupport\"] = df[\"If your company has a native mobile app, what platforms do you support?\"].str.cat(\n",
    "    [df[\"Unnamed: 20\"], df[\"Unnamed: 21\"], df[\"Unnamed: 22\"],\n",
    "     df[\"Unnamed: 23\"], df[\"Unnamed: 24\"], df[\"Unnamed: 25\"]],\n",
    "    na_rep=\"\", sep=\",\")"
   ]
  },
  {
   "cell_type": "code",
   "execution_count": 6,
   "metadata": {
    "collapsed": true,
    "deletable": true,
    "editable": true
   },
   "outputs": [],
   "source": [
    "df = df.drop([\"If your company has a native mobile app, what platforms do you support?\",\n",
    "              \"Unnamed: 20\", \"Unnamed: 21\", \"Unnamed: 22\", \"Unnamed: 23\", \"Unnamed: 24\", \"Unnamed: 25\"] , axis=1)"
   ]
  },
  {
   "cell_type": "code",
   "execution_count": 7,
   "metadata": {
    "collapsed": true,
    "deletable": true,
    "editable": true
   },
   "outputs": [],
   "source": [
    "df[\"ProductRevenue\"] = df[\"If you make a software product, how does your company make money? (You can choose more than one)\"].str.cat(\n",
    "    [df[\"Unnamed: 27\"], df[\"Unnamed: 28\"], df[\"Unnamed: 29\"], df[\"Unnamed: 30\"],\n",
    "     df[\"Unnamed: 31\"], df[\"Unnamed: 32\"], df[\"Unnamed: 33\"]],\n",
    "    na_rep=\"\", sep=\",\")"
   ]
  },
  {
   "cell_type": "code",
   "execution_count": 8,
   "metadata": {
    "collapsed": true,
    "deletable": true,
    "editable": true
   },
   "outputs": [],
   "source": [
    "df = df.drop([\"If you make a software product, how does your company make money? (You can choose more than one)\",\n",
    "              \"Unnamed: 27\", \"Unnamed: 28\", \"Unnamed: 29\", \"Unnamed: 30\", \"Unnamed: 31\", \"Unnamed: 32\", \"Unnamed: 33\"]\n",
    "             , axis=1)"
   ]
  },
  {
   "cell_type": "code",
   "execution_count": 9,
   "metadata": {
    "collapsed": false,
    "deletable": true,
    "editable": true
   },
   "outputs": [],
   "source": [
    "df[\"WorkWeek\"] = df[\"In an average week, how do you spend your time?\"].str.cat(\n",
    "    [df[\"Unnamed: 35\"], df[\"Unnamed: 36\"], df[\"Unnamed: 37\"], df[\"Unnamed: 38\"],\n",
    "     df[\"Unnamed: 39\"], df[\"Unnamed: 40\"], df[\"Unnamed: 41\"]],\n",
    "    na_rep=\"\", sep=\",\")"
   ]
  },
  {
   "cell_type": "code",
   "execution_count": 10,
   "metadata": {
    "collapsed": false,
    "deletable": true,
    "editable": true
   },
   "outputs": [],
   "source": [
    "df = df.drop([\"In an average week, how do you spend your time?\",\n",
    "              \"Unnamed: 35\", \"Unnamed: 36\", \"Unnamed: 37\", \"Unnamed: 38\",\n",
    "              \"Unnamed: 39\", \"Unnamed: 40\", \"Unnamed: 41\"],\n",
    "             axis=1)"
   ]
  },
  {
   "cell_type": "code",
   "execution_count": 11,
   "metadata": {
    "collapsed": true,
    "deletable": true,
    "editable": true
   },
   "outputs": [],
   "source": [
    "df[\"PurchasingInvolvement\"] = df[\"What is your involvement in purchasing products or services for the company you work for? (You can choose more than one)\"].str.cat(\n",
    "    [df[\"Unnamed: 43\"], df[\"Unnamed: 44\"], df[\"Unnamed: 45\"], df[\"Unnamed: 46\"],\n",
    "     df[\"Unnamed: 47\"], df[\"Unnamed: 48\"]],\n",
    "    na_rep=\"\", sep=\",\")"
   ]
  },
  {
   "cell_type": "code",
   "execution_count": 12,
   "metadata": {
    "collapsed": true,
    "deletable": true,
    "editable": true
   },
   "outputs": [],
   "source": [
    "df = df.drop([\"What is your involvement in purchasing products or services for the company you work for? (You can choose more than one)\",\n",
    "              \"Unnamed: 43\", \"Unnamed: 44\", \"Unnamed: 45\", \"Unnamed: 46\", \"Unnamed: 47\", \"Unnamed: 48\"],\n",
    "             axis=1)"
   ]
  },
  {
   "cell_type": "code",
   "execution_count": 13,
   "metadata": {
    "collapsed": true
   },
   "outputs": [],
   "source": [
    "df[\"PurchasingInvolvementType\"] = df[\"What types of purchases are you involved in?\"].str.cat(\n",
    "    [df[\"Unnamed: 50\"], df[\"Unnamed: 51\"], df[\"Unnamed: 52\"], df[\"Unnamed: 53\"], df[\"Unnamed: 54\"]],\n",
    "    na_rep=\"\", sep=\",\")"
   ]
  },
  {
   "cell_type": "code",
   "execution_count": 14,
   "metadata": {
    "collapsed": true
   },
   "outputs": [],
   "source": [
    "df = df.drop([\"What types of purchases are you involved in?\",\n",
    "              \"Unnamed: 50\", \"Unnamed: 51\", \"Unnamed: 52\", \"Unnamed: 53\", \"Unnamed: 54\"],\n",
    "             axis=1)"
   ]
  },
  {
   "cell_type": "code",
   "execution_count": 15,
   "metadata": {
    "collapsed": true
   },
   "outputs": [],
   "source": [
    "df[\"LanguageExperience\"] = df[\"Which of the following languages or technologies have you used significantly in the past year?\"].str.cat(\n",
    "    [df[\"Unnamed: 57\"], df[\"Unnamed: 58\"], df[\"Unnamed: 59\"], df[\"Unnamed: 60\"],\n",
    "     df[\"Unnamed: 61\"], df[\"Unnamed: 62\"], df[\"Unnamed: 63\"], df[\"Unnamed: 64\"],\n",
    "     df[\"Unnamed: 65\"], df[\"Unnamed: 66\"], df[\"Unnamed: 67\"], df[\"Unnamed: 68\"], df[\"Unnamed: 69\"]],\n",
    "    na_rep=\"\", sep=\",\")"
   ]
  },
  {
   "cell_type": "code",
   "execution_count": 16,
   "metadata": {
    "collapsed": true
   },
   "outputs": [],
   "source": [
    "df = df.drop([\"Which of the following languages or technologies have you used significantly in the past year?\",\n",
    "              \"Unnamed: 57\", \"Unnamed: 58\", \"Unnamed: 59\", \"Unnamed: 60\", \"Unnamed: 61\", \"Unnamed: 62\",\n",
    "              \"Unnamed: 63\", \"Unnamed: 64\", \"Unnamed: 65\", \"Unnamed: 66\", \"Unnamed: 67\", \"Unnamed: 68\", \"Unnamed: 69\"],\n",
    "             axis=1)"
   ]
  },
  {
   "cell_type": "code",
   "execution_count": 17,
   "metadata": {
    "collapsed": true
   },
   "outputs": [],
   "source": [
    "df[\"LanguageInterest\"] = df[\"Which technologies are you excited about?\"].str.cat(\n",
    "    [df[\"Unnamed: 71\"], df[\"Unnamed: 72\"], df[\"Unnamed: 73\"], df[\"Unnamed: 74\"],\n",
    "     df[\"Unnamed: 75\"], df[\"Unnamed: 76\"], df[\"Unnamed: 77\"], df[\"Unnamed: 78\"],\n",
    "     df[\"Unnamed: 79\"], df[\"Unnamed: 80\"]],\n",
    "    na_rep=\"\", sep=\",\")"
   ]
  },
  {
   "cell_type": "code",
   "execution_count": 18,
   "metadata": {
    "collapsed": false
   },
   "outputs": [],
   "source": [
    "df = df.drop([\"Which technologies are you excited about?\",\n",
    "              \"Unnamed: 71\", \"Unnamed: 72\", \"Unnamed: 73\", \"Unnamed: 74\", \"Unnamed: 75\", \"Unnamed: 76\",\n",
    "              \"Unnamed: 77\", \"Unnamed: 78\", \"Unnamed: 79\", \"Unnamed: 80\"],\n",
    "             axis=1)"
   ]
  },
  {
   "cell_type": "code",
   "execution_count": null,
   "metadata": {
    "collapsed": true
   },
   "outputs": [],
   "source": []
  },
  {
   "cell_type": "code",
   "execution_count": 19,
   "metadata": {
    "collapsed": true
   },
   "outputs": [],
   "source": [
    "df[\"JobExpectations\"] = df[\"Please rate how important each of the following characteristics of a company/job offer are to you.    Please select a MAXIMUM of 3 items as \\\"Non-Negotiables\\\" to help us identify the most important items, those where you would never consider a company if they didn\\'t meet them.\"].str.cat(\n",
    "    [df[\"Unnamed: 83\"], df[\"Unnamed: 84\"], df[\"Unnamed: 85\"], df[\"Unnamed: 86\"],\n",
    "     df[\"Unnamed: 87\"], df[\"Unnamed: 88\"], df[\"Unnamed: 89\"], df[\"Unnamed: 90\"],\n",
    "     df[\"Unnamed: 91\"], df[\"Unnamed: 92\"], df[\"Unnamed: 93\"], df[\"Unnamed: 94\"],\n",
    "     df[\"Unnamed: 95\"], df[\"Unnamed: 96\"], df[\"Unnamed: 97\"]],\n",
    "    na_rep=\"\", sep=\",\")"
   ]
  },
  {
   "cell_type": "code",
   "execution_count": 20,
   "metadata": {
    "collapsed": false
   },
   "outputs": [],
   "source": [
    "df = df.drop([\"Please rate how important each of the following characteristics of a company/job offer are to you.    Please select a MAXIMUM of 3 items as \\\"Non-Negotiables\\\" to help us identify the most important items, those where you would never consider a company if they didn\\'t meet them.\",\n",
    "              \"Unnamed: 83\", \"Unnamed: 84\", \"Unnamed: 85\", \"Unnamed: 86\",\n",
    "              \"Unnamed: 87\", \"Unnamed: 88\", \"Unnamed: 89\", \"Unnamed: 90\",\n",
    "              \"Unnamed: 91\", \"Unnamed: 92\", \"Unnamed: 93\", \"Unnamed: 94\",\n",
    "              \"Unnamed: 95\", \"Unnamed: 96\", \"Unnamed: 97\"],\n",
    "             axis=1)"
   ]
  },
  {
   "cell_type": "code",
   "execution_count": 21,
   "metadata": {
    "collapsed": true
   },
   "outputs": [],
   "source": [
    "df[\"TechProduct\"] = df[\"Which technology products do you own? (You can choose more than one)\"].str.cat(\n",
    "    [df[\"Unnamed: 102\"], df[\"Unnamed: 103\"], df[\"Unnamed: 104\"], df[\"Unnamed: 105\"],\n",
    "     df[\"Unnamed: 105\"], df[\"Unnamed: 106\"], df[\"Unnamed: 107\"], df[\"Unnamed: 108\"],\n",
    "     df[\"Unnamed: 109\"], df[\"Unnamed: 110\"], df[\"Unnamed: 111\"], df[\"Unnamed: 112\"],\n",
    "     df[\"Unnamed: 113\"], df[\"Unnamed: 114\"]],\n",
    "    na_rep=\"\", sep=\",\")"
   ]
  },
  {
   "cell_type": "code",
   "execution_count": 22,
   "metadata": {
    "collapsed": true
   },
   "outputs": [],
   "source": [
    "df = df.drop([\"Which technology products do you own? (You can choose more than one)\",\n",
    "              \"Unnamed: 102\", \"Unnamed: 103\", \"Unnamed: 104\", \"Unnamed: 105\",\n",
    "              \"Unnamed: 106\", \"Unnamed: 107\", \"Unnamed: 108\", \"Unnamed: 109\",\n",
    "              \"Unnamed: 110\", \"Unnamed: 111\", \"Unnamed: 112\", \"Unnamed: 113\", \"Unnamed: 114\"],\n",
    "             axis=1)"
   ]
  },
  {
   "cell_type": "code",
   "execution_count": 23,
   "metadata": {
    "collapsed": true
   },
   "outputs": [],
   "source": [
    "df[\"StackOverflowAds\"] = df[\"Please rate the advertising you\\'ve seen on Stack Overflow\"].str.cat(\n",
    "    [df[\"Unnamed: 117\"], df[\"Unnamed: 118\"], df[\"Unnamed: 119\"], df[\"Unnamed: 120\"], df[\"Unnamed: 121\"]],\n",
    "    na_rep=\"\", sep=\",\")"
   ]
  },
  {
   "cell_type": "code",
   "execution_count": 24,
   "metadata": {
    "collapsed": true
   },
   "outputs": [],
   "source": [
    "df = df.drop([\"Please rate the advertising you\\'ve seen on Stack Overflow\",\n",
    "              \"Unnamed: 117\", \"Unnamed: 118\", \"Unnamed: 119\", \"Unnamed: 120\", \"Unnamed: 121\", ],\n",
    "             axis=1)"
   ]
  },
  {
   "cell_type": "code",
   "execution_count": 25,
   "metadata": {
    "collapsed": true
   },
   "outputs": [],
   "source": [
    "df[\"StackOverflowUsage\"] = df[\"How do you use Stack Overflow?\"].str.cat(\n",
    "    [df[\"Unnamed: 125\"], df[\"Unnamed: 126\"], df[\"Unnamed: 127\"]],\n",
    "    na_rep=\"\", sep=\",\")"
   ]
  },
  {
   "cell_type": "code",
   "execution_count": 26,
   "metadata": {
    "collapsed": true
   },
   "outputs": [],
   "source": [
    "df = df.drop([\"How do you use Stack Overflow?\",\n",
    "              \"Unnamed: 125\", \"Unnamed: 126\", \"Unnamed: 127\"],\n",
    "             axis=1)"
   ]
  },
  {
   "cell_type": "code",
   "execution_count": 27,
   "metadata": {
    "collapsed": false,
    "scrolled": true
   },
   "outputs": [
    {
     "data": {
      "text/html": [
       "<div>\n",
       "<table border=\"1\" class=\"dataframe\">\n",
       "  <thead>\n",
       "    <tr style=\"text-align: right;\">\n",
       "      <th></th>\n",
       "      <th>What Country or Region do you live in?</th>\n",
       "      <th>Which US State or Territory do you live in?</th>\n",
       "      <th>How old are you?</th>\n",
       "      <th>How many years of IT/Programming experience do you have?</th>\n",
       "      <th>How would you best describe the industry you currently work in?</th>\n",
       "      <th>How many people work for your company?</th>\n",
       "      <th>Which of the following best describes your occupation?</th>\n",
       "      <th>Including yourself, how many developers are employed at your company?</th>\n",
       "      <th>How large is the team that you work on?</th>\n",
       "      <th>What is your budget for outside expenditures (hardware, software, consulting, etc) for 2013?</th>\n",
       "      <th>Which desktop operating system do you use the most?</th>\n",
       "      <th>Have you changed jobs in the last 12 months?</th>\n",
       "      <th>What best describes your career / job satisfaction?</th>\n",
       "      <th>Including bonus, what is your annual compensation in USD?</th>\n",
       "      <th>In the last 12 months, how much money have you spent on personal technology-related purchases?</th>\n",
       "    </tr>\n",
       "  </thead>\n",
       "  <tbody>\n",
       "    <tr>\n",
       "      <th>1</th>\n",
       "      <td>United Kingdom</td>\n",
       "      <td>NaN</td>\n",
       "      <td>35-39</td>\n",
       "      <td>6/10/2013</td>\n",
       "      <td>Finance / Banking</td>\n",
       "      <td>101-999</td>\n",
       "      <td>Enterprise Level Services</td>\n",
       "      <td>100</td>\n",
       "      <td>4/8/2013</td>\n",
       "      <td>NaN</td>\n",
       "      <td>Windows 7</td>\n",
       "      <td>No</td>\n",
       "      <td>It's a paycheck</td>\n",
       "      <td>$80,000 - $100,000</td>\n",
       "      <td>$100-$250</td>\n",
       "    </tr>\n",
       "    <tr>\n",
       "      <th>2</th>\n",
       "      <td>United States of America</td>\n",
       "      <td>Oregon</td>\n",
       "      <td>25-29</td>\n",
       "      <td>6/10/2013</td>\n",
       "      <td>Retail</td>\n",
       "      <td>101-999</td>\n",
       "      <td>Back-End Web Developer</td>\n",
       "      <td>6/15/2013</td>\n",
       "      <td>4/8/2013</td>\n",
       "      <td>&lt;$1,000</td>\n",
       "      <td>Windows 7</td>\n",
       "      <td>No</td>\n",
       "      <td>It's a paycheck</td>\n",
       "      <td>$20,000 - $40,000</td>\n",
       "      <td>$251-$500</td>\n",
       "    </tr>\n",
       "  </tbody>\n",
       "</table>\n",
       "</div>"
      ],
      "text/plain": [
       "  What Country or Region do you live in?  \\\n",
       "1                         United Kingdom   \n",
       "2               United States of America   \n",
       "\n",
       "  Which US State or Territory do you live in? How old are you?  \\\n",
       "1                                         NaN            35-39   \n",
       "2                                      Oregon            25-29   \n",
       "\n",
       "  How many years of IT/Programming experience do you have?  \\\n",
       "1                                          6/10/2013         \n",
       "2                                          6/10/2013         \n",
       "\n",
       "  How would you best describe the industry you currently work in?  \\\n",
       "1                                  Finance / Banking                \n",
       "2                                             Retail                \n",
       "\n",
       "  How many people work for your company?  \\\n",
       "1                                101-999   \n",
       "2                                101-999   \n",
       "\n",
       "  Which of the following best describes your occupation?  \\\n",
       "1                          Enterprise Level Services       \n",
       "2                             Back-End Web Developer       \n",
       "\n",
       "  Including yourself, how many developers are employed at your company?  \\\n",
       "1                                                100                      \n",
       "2                                          6/15/2013                      \n",
       "\n",
       "  How large is the team that you work on?  \\\n",
       "1                                4/8/2013   \n",
       "2                                4/8/2013   \n",
       "\n",
       "  What is your budget for outside expenditures (hardware, software, consulting, etc) for 2013?  \\\n",
       "1                                                NaN                                             \n",
       "2                                            <$1,000                                             \n",
       "\n",
       "  Which desktop operating system do you use the most?  \\\n",
       "1                                          Windows 7    \n",
       "2                                          Windows 7    \n",
       "\n",
       "  Have you changed jobs in the last 12 months?  \\\n",
       "1                                           No   \n",
       "2                                           No   \n",
       "\n",
       "  What best describes your career / job satisfaction?  \\\n",
       "1                                    It's a paycheck    \n",
       "2                                    It's a paycheck    \n",
       "\n",
       "  Including bonus, what is your annual compensation in USD?  \\\n",
       "1                                 $80,000 - $100,000          \n",
       "2                                  $20,000 - $40,000          \n",
       "\n",
       "  In the last 12 months, how much money have you spent on personal technology-related purchases?  \n",
       "1                                          $100-$250                                              \n",
       "2                                          $251-$500                                              "
      ]
     },
     "execution_count": 27,
     "metadata": {},
     "output_type": "execute_result"
    }
   ],
   "source": [
    "df.iloc[:2, :15]"
   ]
  },
  {
   "cell_type": "code",
   "execution_count": 28,
   "metadata": {
    "collapsed": true,
    "deletable": true,
    "editable": true
   },
   "outputs": [],
   "source": [
    "df.to_csv(\"2013_survey_cleaned.csv\", index=False)"
   ]
  }
 ],
 "metadata": {
  "kernelspec": {
   "display_name": "Python 3",
   "language": "python",
   "name": "python3"
  },
  "language_info": {
   "codemirror_mode": {
    "name": "ipython",
    "version": 3
   },
   "file_extension": ".py",
   "mimetype": "text/x-python",
   "name": "python",
   "nbconvert_exporter": "python",
   "pygments_lexer": "ipython3",
   "version": "3.6.0"
  }
 },
 "nbformat": 4,
 "nbformat_minor": 2
}
