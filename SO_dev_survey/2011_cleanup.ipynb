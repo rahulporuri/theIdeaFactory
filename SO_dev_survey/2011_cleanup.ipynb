{
 "cells": [
  {
   "cell_type": "code",
   "execution_count": 1,
   "metadata": {
    "collapsed": true,
    "deletable": true,
    "editable": true
   },
   "outputs": [],
   "source": [
    "import pandas as pd\n",
    "df = pd.read_table(\"/Users/rahulporuri/Downloads/SO-survey-data/2011_Stack_Overflow_Survey_Results.csv\",\n",
    "                   sep=\",\", engine=\"python\")"
   ]
  },
  {
   "cell_type": "code",
   "execution_count": 2,
   "metadata": {
    "collapsed": false,
    "deletable": true,
    "editable": true
   },
   "outputs": [],
   "source": [
    "df = df.drop(0)"
   ]
  },
  {
   "cell_type": "code",
   "execution_count": 3,
   "metadata": {
    "collapsed": false,
    "deletable": true,
    "editable": true,
    "scrolled": true
   },
   "outputs": [],
   "source": [
    "df[\"PurchasingInvolvement\"] = df[\"What is your involvement in purchasing? You can choose more than 1.\"].str.cat(\n",
    "    [df[\"Unnamed: 9\"], df[\"Unnamed: 10\"],df[\"Unnamed: 11\"], df[\"Unnamed: 12\"],df[\"Unnamed: 13\"], df[\"Unnamed: 14\"]],\n",
    "    na_rep=\"\", sep=\",\")"
   ]
  },
  {
   "cell_type": "code",
   "execution_count": 4,
   "metadata": {
    "collapsed": false,
    "deletable": true,
    "editable": true
   },
   "outputs": [],
   "source": [
    "df = df.drop([\"What is your involvement in purchasing? You can choose more than 1.\",\n",
    "              \"Unnamed: 9\", \"Unnamed: 10\", \"Unnamed: 11\", \"Unnamed: 12\", \"Unnamed: 13\", \"Unnamed: 14\"] , axis=1)"
   ]
  },
  {
   "cell_type": "code",
   "execution_count": 5,
   "metadata": {
    "collapsed": false,
    "deletable": true,
    "editable": true
   },
   "outputs": [],
   "source": [
    "df[\"PurchasingInvolvementType\"] = df[\"What types of purchases are you involved in?\"].str.cat(\n",
    "    [df[\"Unnamed: 16\"], df[\"Unnamed: 17\"], df[\"Unnamed: 18\"], df[\"Unnamed: 19\"],df[\"Unnamed: 20\"]],\n",
    "    na_rep=\"\", sep=\",\")"
   ]
  },
  {
   "cell_type": "code",
   "execution_count": 6,
   "metadata": {
    "collapsed": true,
    "deletable": true,
    "editable": true
   },
   "outputs": [],
   "source": [
    "df = df.drop([\"What types of purchases are you involved in?\",\n",
    "              \"Unnamed: 16\", \"Unnamed: 17\", \"Unnamed: 18\", \"Unnamed: 19\", \"Unnamed: 20\"] , axis=1)"
   ]
  },
  {
   "cell_type": "code",
   "execution_count": 7,
   "metadata": {
    "collapsed": true,
    "deletable": true,
    "editable": true
   },
   "outputs": [],
   "source": [
    "df[\"BudgetRange\"] = df[\"What is your budget for outside expenditures (hardware, software, consulting, etc) for 2011?\"].str.cat(\n",
    "    [df[\"Unnamed: 22\"], df[\"Unnamed: 23\"], df[\"Unnamed: 24\"], df[\"Unnamed: 25\"],\n",
    "     df[\"Unnamed: 26\"], df[\"Unnamed: 27\"], df[\"Unnamed: 28\"]],\n",
    "    na_rep=\"\", sep=\",\")"
   ]
  },
  {
   "cell_type": "code",
   "execution_count": 8,
   "metadata": {
    "collapsed": true,
    "deletable": true,
    "editable": true
   },
   "outputs": [],
   "source": [
    "df = df.drop([\"What is your budget for outside expenditures (hardware, software, consulting, etc) for 2011?\",\n",
    "              \"Unnamed: 22\", \"Unnamed: 23\", \"Unnamed: 24\", \"Unnamed: 25\", \"Unnamed: 26\", \"Unnamed: 27\", \"Unnamed: 28\"]\n",
    "             , axis=1)"
   ]
  },
  {
   "cell_type": "code",
   "execution_count": 9,
   "metadata": {
    "collapsed": false,
    "deletable": true,
    "editable": true
   },
   "outputs": [],
   "source": [
    "df[\"LanguageExpertise\"] = df[\"Which languages are you proficient in?\"].str.cat(\n",
    "    [df[\"Unnamed: 31\"], df[\"Unnamed: 32\"], df[\"Unnamed: 33\"], df[\"Unnamed: 34\"],\n",
    "     df[\"Unnamed: 35\"], df[\"Unnamed: 36\"], df[\"Unnamed: 37\"], df[\"Unnamed: 38\"],\n",
    "     df[\"Unnamed: 39\"], df[\"Unnamed: 40\"], df[\"Unnamed: 41\"], df[\"Unnamed: 42\"]],\n",
    "    na_rep=\"\", sep=\",\")"
   ]
  },
  {
   "cell_type": "code",
   "execution_count": 10,
   "metadata": {
    "collapsed": true,
    "deletable": true,
    "editable": true
   },
   "outputs": [],
   "source": [
    "df = df.drop([\"Which languages are you proficient in?\",\n",
    "              \"Unnamed: 31\", \"Unnamed: 32\", \"Unnamed: 33\", \"Unnamed: 34\", \"Unnamed: 35\",\n",
    "              \"Unnamed: 36\", \"Unnamed: 37\", \"Unnamed: 38\", \"Unnamed: 39\", \"Unnamed: 40\",\n",
    "              \"Unnamed: 41\", \"Unnamed: 42\"],\n",
    "             axis=1)"
   ]
  },
  {
   "cell_type": "code",
   "execution_count": 11,
   "metadata": {
    "collapsed": true,
    "deletable": true,
    "editable": true
   },
   "outputs": [],
   "source": [
    "df[\"TechProduct\"] = df[\"Which technology products do you own? (You can choose more than one)\"].str.cat(\n",
    "    [df[\"Unnamed: 47\"], df[\"Unnamed: 48\"], df[\"Unnamed: 49\"], df[\"Unnamed: 50\"],\n",
    "     df[\"Unnamed: 51\"], df[\"Unnamed: 52\"], df[\"Unnamed: 53\"], df[\"Unnamed: 54\"],\n",
    "     df[\"Unnamed: 55\"], df[\"Unnamed: 56\"], df[\"Unnamed: 57\"], df[\"Unnamed: 58\"],\n",
    "     df[\"Unnamed: 59\"], df[\"Unnamed: 60\"], df[\"Unnamed: 61\"], df[\"Unnamed: 62\"]],\n",
    "    na_rep=\"\", sep=\",\")"
   ]
  },
  {
   "cell_type": "code",
   "execution_count": 12,
   "metadata": {
    "collapsed": true,
    "deletable": true,
    "editable": true
   },
   "outputs": [],
   "source": [
    "df = df.drop([\"Which technology products do you own? (You can choose more than one)\",\n",
    "              \"Unnamed: 47\", \"Unnamed: 48\", \"Unnamed: 49\", \"Unnamed: 50\", \"Unnamed: 51\",\n",
    "              \"Unnamed: 52\", \"Unnamed: 53\", \"Unnamed: 54\", \"Unnamed: 55\", \"Unnamed: 56\",\n",
    "              \"Unnamed: 57\", \"Unnamed: 58\", \"Unnamed: 59\", \"Unnamed: 60\", \"Unnamed: 61\", \"Unnamed: 62\"],\n",
    "             axis=1)"
   ]
  },
  {
   "cell_type": "code",
   "execution_count": 13,
   "metadata": {
    "collapsed": true,
    "deletable": true,
    "editable": true
   },
   "outputs": [],
   "source": [
    "df.to_csv(\"2011_survey_cleaned.csv\", index=False)"
   ]
  }
 ],
 "metadata": {
  "kernelspec": {
   "display_name": "Python 3",
   "language": "python",
   "name": "python3"
  },
  "language_info": {
   "codemirror_mode": {
    "name": "ipython",
    "version": 3
   },
   "file_extension": ".py",
   "mimetype": "text/x-python",
   "name": "python",
   "nbconvert_exporter": "python",
   "pygments_lexer": "ipython3",
   "version": "3.6.0"
  }
 },
 "nbformat": 4,
 "nbformat_minor": 2
}
