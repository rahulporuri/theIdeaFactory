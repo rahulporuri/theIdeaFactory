{
 "cells": [
  {
   "cell_type": "code",
   "execution_count": 1,
   "metadata": {
    "collapsed": true,
    "deletable": true,
    "editable": true
   },
   "outputs": [],
   "source": [
    "import pandas as pd\n",
    "\n",
    "filename = \"/Users/rahulporuri/Downloads/SO-survey-data/2012_Stack_Overflow_Survey_Results.csv\"\n",
    "df = pd.read_table(filename, sep=\",\", engine=\"python\")"
   ]
  },
  {
   "cell_type": "code",
   "execution_count": 2,
   "metadata": {
    "collapsed": false,
    "deletable": true,
    "editable": true
   },
   "outputs": [],
   "source": [
    "col_name = \"What is your involvement in purchasing products or services for the company you work for? (You can choose more than one)\"\n",
    "\n",
    "df[\"PurchasingInvolvement\"] = df[col_name].str.cat(\n",
    "    [df[\"Unnamed: 8\"], df[\"Unnamed: 9\"], df[\"Unnamed: 10\"],\n",
    "     df[\"Unnamed: 11\"],df[\"Unnamed: 12\"], df[\"Unnamed: 13\"]\n",
    "    ], na_rep=\"\", sep=\"-\")\n",
    "\n",
    "df = df.drop([col_name, \"Unnamed: 8\", \"Unnamed: 9\", \"Unnamed: 10\",\n",
    "              \"Unnamed: 11\", \"Unnamed: 12\", \"Unnamed: 13\"], axis=1)"
   ]
  },
  {
   "cell_type": "code",
   "execution_count": 3,
   "metadata": {
    "collapsed": true,
    "deletable": true,
    "editable": true
   },
   "outputs": [],
   "source": [
    "col_name = \"What types of purchases are you involved in?\"\n",
    "\n",
    "df[\"PurchasingInvolvementType\"] = df[col_name].str.cat(\n",
    "    [df[\"Unnamed: 15\"], df[\"Unnamed: 16\"], df[\"Unnamed: 17\"],\n",
    "     df[\"Unnamed: 18\"], df[\"Unnamed: 19\"]\n",
    "    ], na_rep=\"\", sep=\"-\")\n",
    "\n",
    "df = df.drop([col_name, \"Unnamed: 15\", \"Unnamed: 16\",\n",
    "              \"Unnamed: 17\", \"Unnamed: 18\", \"Unnamed: 19\"], axis=1)"
   ]
  },
  {
   "cell_type": "code",
   "execution_count": 4,
   "metadata": {
    "collapsed": true,
    "deletable": true,
    "editable": true
   },
   "outputs": [],
   "source": [
    "col_name = \"Which languages are you proficient in?\"\n",
    "\n",
    "df[\"LanguageExpertise\"] = df[col_name].str.cat(\n",
    "    [df[\"Unnamed: 23\"], df[\"Unnamed: 24\"], df[\"Unnamed: 25\"], df[\"Unnamed: 26\"],\n",
    "     df[\"Unnamed: 27\"], df[\"Unnamed: 28\"], df[\"Unnamed: 29\"], df[\"Unnamed: 30\"],\n",
    "     df[\"Unnamed: 31\"], df[\"Unnamed: 32\"], df[\"Unnamed: 33\"], df[\"Unnamed: 34\"],\n",
    "     df[\"Unnamed: 33\"], df[\"Unnamed: 34\"]\n",
    "    ], na_rep=\"\", sep=\"-\")\n",
    "\n",
    "df = df.drop([col_name, \"Unnamed: 23\", \"Unnamed: 24\", \"Unnamed: 25\",\n",
    "              \"Unnamed: 26\", \"Unnamed: 27\", \"Unnamed: 28\", \"Unnamed: 29\",\n",
    "              \"Unnamed: 30\", \"Unnamed: 31\", \"Unnamed: 32\", \"Unnamed: 33\",\n",
    "              \"Unnamed: 34\", \"Unnamed: 33\",\"Unnamed: 34\"], axis=1)"
   ]
  },
  {
   "cell_type": "code",
   "execution_count": 5,
   "metadata": {
    "collapsed": true,
    "deletable": true,
    "editable": true
   },
   "outputs": [],
   "source": [
    "col_name = \"Which technology products do you own? (You can choose more than one)\"\n",
    "\n",
    "df[\"TechProduct\"] = df[col_name].str.cat(\n",
    "    [df[\"Unnamed: 45\"], df[\"Unnamed: 46\"], df[\"Unnamed: 47\"], df[\"Unnamed: 48\"],\n",
    "     df[\"Unnamed: 49\"], df[\"Unnamed: 50\"], df[\"Unnamed: 51\"], df[\"Unnamed: 52\"],\n",
    "     df[\"Unnamed: 53\"], df[\"Unnamed: 54\"], df[\"Unnamed: 55\"], df[\"Unnamed: 56\"],\n",
    "     df[\"Unnamed: 57\"], df[\"Unnamed: 58\"], df[\"Unnamed: 59\"], df[\"Unnamed: 60\"],\n",
    "     df[\"Unnamed: 61\"], df[\"Unnamed: 62\"]\n",
    "    ], na_rep=\"\", sep=\"-\")\n",
    "\n",
    "df = df.drop([col_name, \"Unnamed: 45\", \"Unnamed: 46\", \"Unnamed: 47\", \"Unnamed: 48\",\n",
    "              \"Unnamed: 49\", \"Unnamed: 50\", \"Unnamed: 51\", \"Unnamed: 52\",\n",
    "              \"Unnamed: 53\", \"Unnamed: 54\", \"Unnamed: 55\", \"Unnamed: 56\",\n",
    "              \"Unnamed: 57\", \"Unnamed: 58\", \"Unnamed: 59\", \"Unnamed: 60\",\n",
    "              \"Unnamed: 61\", \"Unnamed: 62\", \"Unnamed: 63\"], axis=1)"
   ]
  },
  {
   "cell_type": "code",
   "execution_count": 6,
   "metadata": {
    "collapsed": true,
    "deletable": true,
    "editable": true
   },
   "outputs": [],
   "source": [
    "col_name = \"Please rate the advertising you've seen on Stack Overflow\"\n",
    "\n",
    "df[\"StackOverflowAds\"] = df[col_name].str.cat(\n",
    "    [df[\"Unnamed: 66\"], df[\"Unnamed: 67\"], df[\"Unnamed: 68\"],\n",
    "     df[\"Unnamed: 69\"], df[\"Unnamed: 70\"]\n",
    "    ], na_rep=\"\", sep=\"-\")\n",
    "\n",
    "df = df.drop([col_name, \"Unnamed: 66\", \"Unnamed: 67\",\n",
    "              \"Unnamed: 68\", \"Unnamed: 69\", \"Unnamed: 70\"], axis=1)"
   ]
  },
  {
   "cell_type": "code",
   "execution_count": 7,
   "metadata": {
    "collapsed": false,
    "deletable": true,
    "editable": true
   },
   "outputs": [],
   "source": [
    "df = df.drop(0)"
   ]
  },
  {
   "cell_type": "code",
   "execution_count": 8,
   "metadata": {
    "collapsed": true,
    "deletable": true,
    "editable": true
   },
   "outputs": [],
   "source": [
    "df.to_csv(\"2012_survey_cleaned.csv\", index=False)"
   ]
  }
 ],
 "metadata": {
  "kernelspec": {
   "display_name": "Python 3",
   "language": "python",
   "name": "python3"
  },
  "language_info": {
   "codemirror_mode": {
    "name": "ipython",
    "version": 3
   },
   "file_extension": ".py",
   "mimetype": "text/x-python",
   "name": "python",
   "nbconvert_exporter": "python",
   "pygments_lexer": "ipython3",
   "version": "3.6.0"
  }
 },
 "nbformat": 4,
 "nbformat_minor": 2
}
